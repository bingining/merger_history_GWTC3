{
 "cells": [
  {
   "cell_type": "code",
   "execution_count": 1,
   "metadata": {},
   "outputs": [
    {
     "data": {
      "text/plain": [
       "10"
      ]
     },
     "execution_count": 1,
     "metadata": {},
     "output_type": "execute_result"
    }
   ],
   "source": [
    "1_0"
   ]
  },
  {
   "cell_type": "code",
   "execution_count": 7,
   "metadata": {},
   "outputs": [],
   "source": [
    "using Trapz, Cuba, BenchmarkTools, MathLink\n",
    "\n",
    "# using beta function from mathematica\n",
    "# beta0 = W\"Beta\"(W\"z\", W\"a\", W\"b\")\n",
    "# beta(z, a, b) = weval(wbeta0; z=z, a=a, b=b)"
   ]
  },
  {
   "cell_type": "code",
   "execution_count": 28,
   "metadata": {},
   "outputs": [
    {
     "data": {
      "text/plain": [
       "mergerRate (generic function with 1 method)"
      ]
     },
     "execution_count": 28,
     "metadata": {},
     "output_type": "execute_result"
    }
   ],
   "source": [
    "function mergerRate(mergerRateDensity::Function)\n",
    "    m_min, m_max = 1e-1, 150.0\n",
    "    dm = m_max - m_min\n",
    "    int(x, y) = dm^2 * mergerRateDensity(m_min + dm*x, m_min + dm*y)\n",
    "    function integrand(x, f)\n",
    "        f[1] = int(x[1], x[2])\n",
    "    end\n",
    "    result, err = cuhre(integrand, rtol=1e-1)\n",
    "    result[1]\n",
    "\n",
    "end"
   ]
  },
  {
   "cell_type": "code",
   "execution_count": 63,
   "metadata": {},
   "outputs": [
    {
     "data": {
      "text/plain": [
       "test2 (generic function with 1 method)"
      ]
     },
     "execution_count": 63,
     "metadata": {},
     "output_type": "execute_result"
    }
   ],
   "source": [
    "using Trapz\n",
    "function test2()\n",
    "    vx = range(0, 1, length=20)\n",
    "    vy = range(0, 2, length=20)\n",
    "    vz = range(0, 3, length=20)\n",
    "    M = [x^2 + y^2 + z^2 for x = vx, y = vy, z = vz]\n",
    "    I = trapz((vx, vy, vz), M)\n",
    "end\n"
   ]
  },
  {
   "cell_type": "code",
   "execution_count": 64,
   "metadata": {},
   "outputs": [
    {
     "name": "stdout",
     "output_type": "stream",
     "text": [
      "  29.555 μs (5 allocations: 66.09 KiB)\n"
     ]
    },
    {
     "data": {
      "text/plain": [
       "28.03878116343491"
      ]
     },
     "execution_count": 64,
     "metadata": {},
     "output_type": "execute_result"
    }
   ],
   "source": [
    "@btime test2()"
   ]
  },
  {
   "cell_type": "code",
   "execution_count": 59,
   "metadata": {},
   "outputs": [
    {
     "data": {
      "text/plain": [
       "test (generic function with 1 method)"
      ]
     },
     "execution_count": 59,
     "metadata": {},
     "output_type": "execute_result"
    }
   ],
   "source": [
    "function test()\n",
    "    int0(x, y, z) = x^2 + y^2 + z^2\n",
    "    int(x, y, z) = 6 * int0(x, 2 * y, 3 * z)\n",
    "    function integrand(x, f)\n",
    "        f[1] = int(x[1], x[2], x[3])\n",
    "    end\n",
    "    result, err = cuhre(integrand, 3, rtol=1e-1)\n",
    "    result[1]\n",
    "end"
   ]
  },
  {
   "cell_type": "code",
   "execution_count": 60,
   "metadata": {},
   "outputs": [
    {
     "name": "stdout",
     "output_type": "stream",
     "text": [
      "  23.053 μs (1527 allocations: 47.81 KiB)\n"
     ]
    },
    {
     "data": {
      "text/plain": [
       "28.000000000000007"
      ]
     },
     "execution_count": 60,
     "metadata": {},
     "output_type": "execute_result"
    }
   ],
   "source": [
    "@btime test()"
   ]
  },
  {
   "cell_type": "markdown",
   "metadata": {},
   "source": [
    "# lognormal"
   ]
  },
  {
   "cell_type": "code",
   "execution_count": 29,
   "metadata": {},
   "outputs": [
    {
     "data": {
      "text/plain": [
       "mergerRateDensity2nd_log (generic function with 1 method)"
      ]
     },
     "execution_count": 29,
     "metadata": {},
     "output_type": "execute_result"
    }
   ],
   "source": [
    "# log-normal mass function \n",
    "function mergerRateDensity1st0_log(mc, σc, log_fpbh, i, j)\n",
    "    fpbh = 10^log_fpbh\n",
    "    210084.52488130186 / (i^2 * j^2 * σc^2) * exp(-(743 * σc^4 + 1369 * log(i / mc)^2 + 1369 * log(j / mc)^2) / (2738 * σc^2)) * (i * j)^(3 / 37) * (i + j)^(36 / 37) * ((exp(σc^2 / 2) * fpbh) / mc)^(53 / 37) * mc^(53 / 37)\n",
    "end\n",
    "\n",
    "function mergerRateDensity2nd00_log(mc, σc, log_fpbh, i, j)\n",
    "    fpbh = 10^log_fpbh\n",
    "    tmp1 = 1009.5488113544313 * fpbh^(69 / 37) * i^(6 / 37) * (i + j)^(72 / 37) / j^(68 / 37) / σc^3\n",
    "    tmp2 = exp(-(-3318 * σc^4 + 1369 * log(j / mc)^2) / (2738 * σc^2))\n",
    "\n",
    "    int0(e) = exp(-(1369 * log(e / mc)^2 + 1369 * log((-e + i) / mc)^2) / (2738 * σc^2)) / (e^2 * (-e + i)^2)\n",
    "\n",
    "    vx = range(1e-1, i - 1e-1, length=20)\n",
    "    M = [int0(e) for e = vx]\n",
    "    # @show M\n",
    "    result = trapz((vx), M)\n",
    "\n",
    "    # int(e) = i * int0(i * e)\n",
    "    # function integrand(x, f)\n",
    "    #     f[1] = int(x[1])\n",
    "    # end\n",
    "    # result, err = cuhre(integrand, rtol=1e-1)\n",
    "    tmp1 * tmp2 * result[1]\n",
    "end\n",
    "\n",
    "function mergerRateDensity2nd0_log(mc, σc, log_fpbh, i, j)\n",
    "    0.5 * (mergerRateDensity2nd00_log(mc, σc, log_fpbh, i, j) + mergerRateDensity2nd00_log(mc, σc, log_fpbh, j, i))\n",
    "end\n",
    "\n",
    "mergerRateDensity1st_log(mc, σc, log_fpbh, i, j) = mergerRateDensity1st0_log.(mc, σc, log_fpbh, i, j)\n",
    "mergerRateDensity2nd_log(mc, σc, log_fpbh, i, j) = mergerRateDensity2nd0_log.(mc, σc, log_fpbh, i, j)"
   ]
  },
  {
   "cell_type": "code",
   "execution_count": 30,
   "metadata": {},
   "outputs": [],
   "source": [
    "mc, σc, log_fpbh, i, j = 16.26, 0.75, -2.69, 30.0, 10.0;"
   ]
  },
  {
   "cell_type": "code",
   "execution_count": 31,
   "metadata": {},
   "outputs": [
    {
     "data": {
      "text/plain": [
       "(54.11155586254123, 0.598634164076002)"
      ]
     },
     "execution_count": 31,
     "metadata": {},
     "output_type": "execute_result"
    }
   ],
   "source": [
    "t1(i, j) = mergerRateDensity1st0_log(mc, σc, log_fpbh, i, j)\n",
    "t2(i,j) = mergerRateDensity2nd0_log(mc, σc, log_fpbh, i, j)\n",
    "R1, R2 = mergerRate(t1), mergerRate(t2)"
   ]
  },
  {
   "cell_type": "code",
   "execution_count": 32,
   "metadata": {},
   "outputs": [
    {
     "data": {
      "text/plain": [
       "0.011062963437915246"
      ]
     },
     "execution_count": 32,
     "metadata": {},
     "output_type": "execute_result"
    }
   ],
   "source": [
    "R2/R1"
   ]
  },
  {
   "cell_type": "markdown",
   "metadata": {},
   "source": [
    "# power-law"
   ]
  },
  {
   "cell_type": "code",
   "execution_count": 147,
   "metadata": {},
   "outputs": [],
   "source": [
    "α, M, log_fpbh, i, j = 1.92, 6.23, -2.59, 30, 10;"
   ]
  },
  {
   "cell_type": "code",
   "execution_count": 148,
   "metadata": {},
   "outputs": [
    {
     "data": {
      "text/plain": [
       "0.02484814980649504"
      ]
     },
     "execution_count": 148,
     "metadata": {},
     "output_type": "execute_result"
    }
   ],
   "source": [
    "function mergerRateDensity1st0_power(α, M, log_fpbh, i, j)\n",
    "    if (i > M) & (j > M)\n",
    "        fpbh = 10^log_fpbh\n",
    "        numerator = 4.884e7 * (i + j)^(36 / 37) * (i / M)^(-α) * (j / M)^(-α) * (fpbh * (-1 + α) / (M * α))^(53 / 37) * α^3\n",
    "        denominator = (i * j)^(34 / 37) * M^(21 / 37) * (21.0 + 37.0 * α)\n",
    "        numerator / denominator\n",
    "    else\n",
    "        0\n",
    "    end\n",
    "end\n",
    "\n",
    "mergerRateDensity1st0_power(α, M, log_fpbh, i, j)"
   ]
  },
  {
   "cell_type": "code",
   "execution_count": 149,
   "metadata": {},
   "outputs": [
    {
     "data": {
      "text/plain": [
       "mergerRateDensity2nd_power (generic function with 1 method)"
      ]
     },
     "execution_count": 149,
     "metadata": {},
     "output_type": "execute_result"
    }
   ],
   "source": [
    "# function mergerRateDensity2nd00_power1(α, M, log_fpbh, i, j)\n",
    "#     if i > 2 * M\n",
    "#         fpbh = 10^log_fpbh\n",
    "#         t1 = 588300.0 / ((i * j)^(31 / 37) * (42.0 + 37.0 * α)) * i^(-2 * α) * j^(-α) * (i + j)^(72 / 37)\n",
    "#         t2 = M^(-3 + 3α) * ((fpbh * (-1 + α)) / α)^(69 / 37) * α^4\n",
    "#         t3 = -wbeta(M / i, -α, -α) + wbeta(1 - M / i, -α, -α)\n",
    "#         t1 * t2 * t3\n",
    "#     else\n",
    "#         0\n",
    "#     end\n",
    "# end\n",
    "\n",
    "function mergerRateDensity2nd00_power(α, M, log_fpbh, i, j)\n",
    "    if (i > 2 * M) & (j>M)\n",
    "        fpbh = 10^log_fpbh\n",
    "        t1 = 588300.0 * i^(6 / 37) * (i + j)^(72 / 37) * ((fpbh * (-1 + α)) / (M * α))^(69 / 37) * α^4 * M^(3 * α)\n",
    "        t2 = j^(31 / 37) * M^(42 / 37) * (42 + 37α)\n",
    "\n",
    "        int0(e) = (e * (-e + i) * j)^-α / e / (-e + i)\n",
    "\n",
    "        vx = range(M, i - M, length=20)\n",
    "        M = [int0(e) for e = vx]\n",
    "        # @show M\n",
    "        result = trapz((vx), M)\n",
    "\n",
    "        # int(e) = i * int0(i * e)\n",
    "        # function integrand(x, f)\n",
    "        #     f[1] = int(x[1])\n",
    "        # end\n",
    "        # result, err = cuhre(integrand, rtol=1e-1)\n",
    "        t1 / t2 * result[1]\n",
    "    else\n",
    "        0.0\n",
    "    end\n",
    "end\n",
    "\n",
    "function mergerRateDensity2nd0_power(α, M, log_fpbh, i, j)\n",
    "    0.5 * (mergerRateDensity2nd00_power(α, M, log_fpbh, i, j) + mergerRateDensity2nd00_power(α, M, log_fpbh, j, i))\n",
    "end\n",
    "\n",
    "mergerRateDensity1st_power(α, M, log_fpbh, i, j) = mergerRateDensity1st0_power.(α, M, log_fpbh, i, j)\n",
    "mergerRateDensity2nd_power(α, M, log_fpbh, i, j) = mergerRateDensity2nd0_power.(α, M, log_fpbh, i, j)"
   ]
  },
  {
   "cell_type": "code",
   "execution_count": 150,
   "metadata": {},
   "outputs": [
    {
     "data": {
      "text/plain": [
       "(0.0006102892277625077, 0.0)"
      ]
     },
     "execution_count": 150,
     "metadata": {},
     "output_type": "execute_result"
    }
   ],
   "source": [
    "mergerRateDensity2nd00_power(α, M, log_fpbh, i, j), mergerRateDensity2nd00_power(α, M, log_fpbh, j, i)"
   ]
  },
  {
   "cell_type": "code",
   "execution_count": 151,
   "metadata": {},
   "outputs": [
    {
     "data": {
      "text/plain": [
       "(63.43832255493046, 0.6017061698223047)"
      ]
     },
     "execution_count": 151,
     "metadata": {},
     "output_type": "execute_result"
    }
   ],
   "source": [
    "t1(i, j) = mergerRateDensity1st0_power(α, M, log_fpbh, i, j)\n",
    "t2(i,j) = mergerRateDensity2nd0_power(α, M, log_fpbh, i, j)\n",
    "R1, R2 = mergerRate(t1), mergerRate(t2)"
   ]
  },
  {
   "cell_type": "code",
   "execution_count": 152,
   "metadata": {},
   "outputs": [
    {
     "data": {
      "text/plain": [
       "0.009484900381804624"
      ]
     },
     "execution_count": 152,
     "metadata": {},
     "output_type": "execute_result"
    }
   ],
   "source": [
    "R2/R1"
   ]
  },
  {
   "cell_type": "markdown",
   "metadata": {},
   "source": [
    "# CC"
   ]
  },
  {
   "cell_type": "code",
   "execution_count": 46,
   "metadata": {},
   "outputs": [],
   "source": [
    "using SpecialFunctions"
   ]
  },
  {
   "cell_type": "code",
   "execution_count": 47,
   "metadata": {},
   "outputs": [
    {
     "data": {
      "text/plain": [
       "(0.92, 9.34, -2.88, 30, 10)"
      ]
     },
     "execution_count": 47,
     "metadata": {},
     "output_type": "execute_result"
    }
   ],
   "source": [
    "α, Mf, log_fpbh, i, j = 0.92, 9.34, -2.88, 30, 10"
   ]
  },
  {
   "cell_type": "code",
   "execution_count": 94,
   "metadata": {},
   "outputs": [
    {
     "data": {
      "text/plain": [
       "0.023221855357849326"
      ]
     },
     "execution_count": 94,
     "metadata": {},
     "output_type": "execute_result"
    }
   ],
   "source": [
    "# function mergerRateDensity1st0_CC(α, Mf, log_fpbh, i, j)\n",
    "#     if α > 21/37\n",
    "#     fpbh = 10^log_fpbh\n",
    "#     t1 = 1.32e6 * exp(-(i / Mf)^α - (j / Mf)^α) * (i * j)^α * (i + j)^(36 / 37) * (i * j)^(-34 / 37)\n",
    "#     t2 = Mf^(-21 / 37 - 2 * α) * α^2 * gamma(1 - 21 / 37 / α) * (fpbh * α / Mf / gamma(1 / α))^(53 / 37)\n",
    "\n",
    "#     t1 * t2\n",
    "#     else\n",
    "#         0.0\n",
    "#     end\n",
    "# end\n",
    "# mergerRateDensity1st0_CC(α, Mf, log_fpbh, i, j)"
   ]
  },
  {
   "cell_type": "code",
   "execution_count": 108,
   "metadata": {},
   "outputs": [
    {
     "data": {
      "text/plain": [
       "0.12171212330069098"
      ]
     },
     "execution_count": 108,
     "metadata": {},
     "output_type": "execute_result"
    }
   ],
   "source": [
    "gamma(0.899, 2.0)"
   ]
  },
  {
   "cell_type": "code",
   "execution_count": 67,
   "metadata": {},
   "outputs": [],
   "source": [
    "m_min, m_max = 1e-1, 1e3;"
   ]
  },
  {
   "cell_type": "code",
   "execution_count": 105,
   "metadata": {},
   "outputs": [
    {
     "data": {
      "text/plain": [
       "0.02942531934822714"
      ]
     },
     "execution_count": 105,
     "metadata": {},
     "output_type": "execute_result"
    }
   ],
   "source": [
    "# function mergerRateDensity1st0_CC(α, Mf, log_fpbh, i, j)\n",
    "#     fpbh = 10^log_fpbh\n",
    "#     t1 = 1.32e6 * exp(-(i / Mf)^α - (j / Mf)^α) * (i * j)^α * (i + j)^(36 / 37) * (i * j)^(-34 / 37)\n",
    "#     t2 = Mf^(-3 * α) * α^3 * (fpbh * α / Mf / gamma(1 / α))^(53 / 37) \n",
    "\n",
    "#     int(l) = exp(-(l / Mf)^α) * l^(-(58 / 37) + α)\n",
    "#     vl = range(m_min, m_max, length=500)\n",
    "#     I = trapz((vl), int.(vl))\n",
    "#     t1 * t2 * I\n",
    "# end\n",
    "\n",
    "\n",
    "# mergerRateDensity1st0_CC(α, Mf, log_fpbh, i, j)"
   ]
  },
  {
   "cell_type": "code",
   "execution_count": 109,
   "metadata": {},
   "outputs": [
    {
     "data": {
      "text/plain": [
       "0.017960862797137912"
      ]
     },
     "execution_count": 109,
     "metadata": {},
     "output_type": "execute_result"
    }
   ],
   "source": [
    "function mergerRateDensity1st0_CC(α, Mf, log_fpbh, i, j)\n",
    "    fpbh = 10^log_fpbh\n",
    "    t1 = (i * j)^(-34 / 37) * 1.32e6 * exp(-(i / Mf)^α - (j / Mf)^α) * i^α * j^α * (i + j)^(36 / 37) * Mf^(-(21 / 37) - 2 * α) * α^2\n",
    "    t2 = (fpbh * α / Mf / gamma(1 / α))^(53 / 37) * (gamma(1 - 21 / 37 / α, (10.0 * Mf)^(-α)) - gamma(1 - 21 / 37 / α, (1e-3 * Mf)^(-α)))\n",
    "    t1 * t2\n",
    "end\n",
    "\n",
    "\n",
    "mergerRateDensity1st0_CC(α, Mf, log_fpbh, i, j)"
   ]
  },
  {
   "cell_type": "code",
   "execution_count": 99,
   "metadata": {},
   "outputs": [
    {
     "name": "stdout",
     "output_type": "stream",
     "text": [
      "  63.008 μs (11 allocations: 8.42 KiB)\n"
     ]
    },
    {
     "data": {
      "text/plain": [
       "0.022457876979724282"
      ]
     },
     "execution_count": 99,
     "metadata": {},
     "output_type": "execute_result"
    }
   ],
   "source": [
    "@btime mergerRateDensity1st0_CC(α, Mf, log_fpbh, i, j)"
   ]
  },
  {
   "cell_type": "code",
   "execution_count": 111,
   "metadata": {},
   "outputs": [
    {
     "data": {
      "text/plain": [
       "9.465392834721715e-14"
      ]
     },
     "execution_count": 111,
     "metadata": {},
     "output_type": "execute_result"
    }
   ],
   "source": [
    "mergerRateDensity1st0_CC(0.1, Mf, log_fpbh, i, j)"
   ]
  },
  {
   "cell_type": "code",
   "execution_count": 86,
   "metadata": {},
   "outputs": [
    {
     "data": {
      "text/plain": [
       "0.0"
      ]
     },
     "execution_count": 86,
     "metadata": {},
     "output_type": "execute_result"
    }
   ],
   "source": [
    "\n",
    "# function mergerRateDensity2nd00_CC(α, Mf, log_fpbh, i, j)\n",
    "#     if α > 42 / 37\n",
    "#         fpbh = 10^log_fpbh\n",
    "\n",
    "#         tmp1 = 15900.0 * i^(6 / 37) * j^(-(31 / 37) + α) * (i + j)^(72 / 37) * Mf^(-(42 / 37) - 3 * α) * α^3\n",
    "#         tmp2 = gamma(1 - 42 / 37 / α) * (fpbh * α / Mf / gamma(1 / α))^(69 / 37)\n",
    "\n",
    "#         int0(e) = e^(-1 + α) * exp(-(e / Mf)^α - ((-e + i) / Mf)^α - (j / Mf)^α) * (-e + i)^(-1 + α)\n",
    "\n",
    "#         vx = range(0, i, length=20)\n",
    "#         M = [int0(e) for e = vx]\n",
    "#         # @show M\n",
    "#         result = trapz((vx), M)\n",
    "\n",
    "#         # int(e) = i * int0(i * e)\n",
    "#         # function integrand(x, f)\n",
    "#         #     f[1] = int(x[1])\n",
    "#         # end\n",
    "#         # result, err = cuhre(integrand, rtol=1e-1)\n",
    "#         tmp1 * tmp2 * result[1]\n",
    "#     else\n",
    "#         0.0\n",
    "#     end\n",
    "# end\n",
    "# mergerRateDensity2nd00_CC(α, Mf, log_fpbh, i, j)"
   ]
  },
  {
   "cell_type": "code",
   "execution_count": 92,
   "metadata": {},
   "outputs": [
    {
     "data": {
      "text/plain": [
       "(0.25156679031772655, 0.25156679031772655)"
      ]
     },
     "execution_count": 92,
     "metadata": {},
     "output_type": "execute_result"
    }
   ],
   "source": [
    "# function mergerRateDensity2nd00_CC(α, Mf, log_fpbh, i, j)\n",
    "#     fpbh = 10^log_fpbh\n",
    "\n",
    "#     t1 = 15900.0 * i^(6 / 37) * j^(-(31 / 37) + α) * (i + j)^(72 / 37)\n",
    "#     t2 = Mf^(-4 * α) * α^4 * exp(-(j / Mf)^α) * (fpbh * α / Mf / gamma(1 / α))^(69 / 37)\n",
    "\n",
    "#     int1(e) = e^(-1 + α) * exp(-(e / Mf)^α - ((-e + i) / Mf)^α) * (-e + i)^(-1 + α)\n",
    "#     int2(l) = l^(-(79 / 37) + α)exp(-(l / Mf)^α)\n",
    "\n",
    "#     ve = range(m_min, i - 1e-5, length=20)\n",
    "#     vl = range(m_min, m_max, length=20)\n",
    "#     I1 = trapz((ve), int1.(ve))\n",
    "#     I2 = trapz((vl), int2.(vl))\n",
    "\n",
    "#     t1 * t2 * I1 * I2\n",
    "# end\n",
    "\n",
    "# mergerRateDensity2nd00_CC(α, Mf, log_fpbh, i, j)"
   ]
  },
  {
   "cell_type": "code",
   "execution_count": 115,
   "metadata": {},
   "outputs": [
    {
     "data": {
      "text/plain": [
       "0.0007629383279362727"
      ]
     },
     "execution_count": 115,
     "metadata": {},
     "output_type": "execute_result"
    }
   ],
   "source": [
    "function mergerRateDensity2nd00_CC(α, Mf, log_fpbh, i, j)\n",
    "    fpbh = 10^log_fpbh\n",
    "\n",
    "    t1 = 15900.0 * i^(6 / 37) * j^(-(31 / 37) + α) * (i + j)^(72 / 37) * Mf^(-(42 / 37) - 3 * α) * α^3\n",
    "    t2 = (fpbh * α / Mf / gamma(1 / α))^(69 / 37) * (gamma(1 - 42 / 37 / α, (10.0 * Mf)^-α) - gamma(1 - 42 / 37 / α, (1e-3 * Mf)^(-α)))\n",
    "\n",
    "    int1(e) = e^(-1 + α) * exp(-(e / Mf)^α - ((-e + i) / Mf)^α - (j / Mf)^α) * (-e + i)^(-1 + α)\n",
    "\n",
    "    ve = range(m_min, i - 1e-5, length=20)\n",
    "    Ie = trapz((ve), int1.(ve))\n",
    "\n",
    "    t1 * t2 * Ie\n",
    "end\n",
    "\n",
    "mergerRateDensity2nd00_CC(α, Mf, log_fpbh, i, j)"
   ]
  },
  {
   "cell_type": "code",
   "execution_count": 50,
   "metadata": {},
   "outputs": [
    {
     "data": {
      "text/plain": [
       "mergerRateDensity2nd_CC (generic function with 1 method)"
      ]
     },
     "execution_count": 50,
     "metadata": {},
     "output_type": "execute_result"
    }
   ],
   "source": [
    "function mergerRateDensity2nd0_CC(α, Mf, log_fpbh, i, j)\n",
    "    0.5 * (mergerRateDensity2nd00_CC(α, Mf, log_fpbh, i, j) + mergerRateDensity2nd00_CC(α, Mf, log_fpbh, j, i))\n",
    "end\n",
    "\n",
    "mergerRateDensity1st_CC(α, Mf, log_fpbh, i, j) = mergerRateDensity1st0_CC.(α, Mf, log_fpbh, i, j)\n",
    "mergerRateDensity2nd_CC(α, Mf, log_fpbh, i, j) = mergerRateDensity2nd0_CC.(α, Mf, log_fpbh, i, j)"
   ]
  },
  {
   "cell_type": "code",
   "execution_count": 51,
   "metadata": {},
   "outputs": [
    {
     "data": {
      "text/plain": [
       "0.0"
      ]
     },
     "execution_count": 51,
     "metadata": {},
     "output_type": "execute_result"
    }
   ],
   "source": [
    "mergerRateDensity2nd_CC(α, Mf, log_fpbh, i, j)"
   ]
  },
  {
   "cell_type": "code",
   "execution_count": 144,
   "metadata": {},
   "outputs": [
    {
     "data": {
      "text/plain": [
       "(114.23512238480986, 3.7171270106208234)"
      ]
     },
     "execution_count": 144,
     "metadata": {},
     "output_type": "execute_result"
    }
   ],
   "source": [
    "t1(i, j) = mergerRateDensity1st0_CC(α, Mf, log_fpbh, i, j)\n",
    "t2(i,j) = mergerRateDensity2nd0_CC(α, Mf, log_fpbh, i, j)\n",
    "R1, R2 = mergerRate(t1), mergerRate(t2)"
   ]
  },
  {
   "cell_type": "code",
   "execution_count": 145,
   "metadata": {},
   "outputs": [
    {
     "data": {
      "text/plain": [
       "0.03253926579690083"
      ]
     },
     "execution_count": 145,
     "metadata": {},
     "output_type": "execute_result"
    }
   ],
   "source": [
    "R2/R1"
   ]
  },
  {
   "cell_type": "markdown",
   "metadata": {},
   "source": [
    "# broken power-law"
   ]
  },
  {
   "cell_type": "code",
   "execution_count": 116,
   "metadata": {},
   "outputs": [
    {
     "data": {
      "text/plain": [
       "(8.89, 3.05, 2.07, -2.62, 30, 10)"
      ]
     },
     "execution_count": 116,
     "metadata": {},
     "output_type": "execute_result"
    }
   ],
   "source": [
    "ms, α1, α2, log_fpbh, i, j = 8.89, 3.05, 2.07, -2.62, 30, 10"
   ]
  },
  {
   "cell_type": "code",
   "execution_count": 117,
   "metadata": {},
   "outputs": [
    {
     "data": {
      "text/plain": [
       "piecewise (generic function with 1 method)"
      ]
     },
     "execution_count": 117,
     "metadata": {},
     "output_type": "execute_result"
    }
   ],
   "source": [
    "function piecewise(i, ms, α1, α2)\n",
    "    (i < ms) ? (i / ms)^α1 : (i / ms)^(-α2)\n",
    "end"
   ]
  },
  {
   "cell_type": "code",
   "execution_count": 57,
   "metadata": {},
   "outputs": [
    {
     "data": {
      "text/plain": [
       "0.002900545839541689"
      ]
     },
     "execution_count": 57,
     "metadata": {},
     "output_type": "execute_result"
    }
   ],
   "source": [
    "# function mergerRateDensity1st0_bpower(ms, α1, α2, log_fpbh, i, j)\n",
    "#     if α1 > 21 / 37\n",
    "#         fpbh = 10.0^log_fpbh\n",
    "#         t1 = 1.32e6 * fpbh * (i + j)^(36 / 37) * α1^2.0 * (1.0 + α1) * (-1 + α2) * (fpbh * (1 + α1) * (-1 + α2) / ms / α1 / α2)^(16 / 37) * α2^2.0\n",
    "#         t2 = (i * j)^(34 / 37) * ms^(58 / 37) * (-0.567568 + α1) * (α1 + α2)^2.0 * (0.567568 + α2)\n",
    "#         t1 * piecewise(i, ms, α1, α2) * piecewise(j, ms, α1, α2) / t2\n",
    "#     else\n",
    "#         0.0\n",
    "#     end\n",
    "# end\n",
    "# mergerRateDensity1st0_bpower(ms, α1, α2, log_fpbh, 20, j)"
   ]
  },
  {
   "cell_type": "code",
   "execution_count": 123,
   "metadata": {},
   "outputs": [
    {
     "data": {
      "text/plain": [
       "0.03056176111246792"
      ]
     },
     "execution_count": 123,
     "metadata": {},
     "output_type": "execute_result"
    }
   ],
   "source": [
    "function mergerRateDensity1st0_bpower(ms, α1, α2, log_fpbh, i, j)\n",
    "    fpbh = 10.0^log_fpbh\n",
    "    t1 = 3.5832299e7 * 10^(-α1 - 3 * α2) * fpbh * (i + j)^(36 / 37) * ms^(-58 / 37 - α1) * α1^2 * (1.0 + α1) * (-1.0 + α2)\n",
    "    t2 = (fpbh * (1 + α1) * (-1 + α2) / ms / α1 / α2)^(16 / 37) * α2^2\n",
    "    t31 = 10^α1 * ms^(21 / 37 + α1 + α2) * (-0.567568 + α1) + 10^(α1 + 3 * α2) * ms^α1 * (-50.4316 * α1 - 50.4316 * α2)\n",
    "    t32 = 1000.0^α2 * ms^(21 / 37) * (105.752 + 186.325 * α2)\n",
    "    t4 = (i * j)^(34 / 37) * (-21 + 37 * α1) * (α1 + α2)^3 * (21 + 37 * α2)\n",
    "    -t1 * t2 * (t31 + t32) * piecewise(i, ms, α1, α2) * piecewise(j, ms, α1, α2) / t4\n",
    "end\n",
    "\n",
    "\n",
    "mergerRateDensity1st0_bpower(ms, α1, α2, log_fpbh, i, j)"
   ]
  },
  {
   "cell_type": "code",
   "execution_count": 124,
   "metadata": {},
   "outputs": [
    {
     "data": {
      "text/plain": [
       "0.01836342215487518"
      ]
     },
     "execution_count": 124,
     "metadata": {},
     "output_type": "execute_result"
    }
   ],
   "source": [
    "mergerRateDensity1st0_bpower(ms, 11/37, α2, log_fpbh, i, j)"
   ]
  },
  {
   "cell_type": "code",
   "execution_count": 50,
   "metadata": {},
   "outputs": [
    {
     "data": {
      "text/plain": [
       "2.1579471880730733e-5"
      ]
     },
     "execution_count": 50,
     "metadata": {},
     "output_type": "execute_result"
    }
   ],
   "source": [
    "\n",
    "# function mergerRateDensity2nd00_bpower(ms, α1, α2, log_fpbh, i, j)\n",
    "#     if α1 > 42 / 37\n",
    "#         fpbh = 10.0^log_fpbh\n",
    "\n",
    "#         t1 = 2.17671e7 * i^(6 / 37) * (i + j)^(72 / 37) * α1^4 * (fpbh * (1 + α1) * (-1 + α2) / ms / α1 / α2)^(69 / 37) * α2^4\n",
    "#         t2 = j^(31 / 37) * ms^(42 / 37) * (1 + α1)^3 * (-42 + 37 * α1) * (1 / (1 + α1) + 1 / (-1 + α2))^3 * (-1 + α2)^3 * (42 + 37α2)\n",
    "\n",
    "#         int0(e) = piecewise(e, ms, α1, α2) * piecewise(i - e, ms, α1, α2) / e / (-e + i)\n",
    "\n",
    "#         vx = range(0+1e-10, i-1e-10, length=20)\n",
    "#         M = [int0(e) for e = vx]\n",
    "#         # @show M\n",
    "#         result = trapz((vx), M)\n",
    "\n",
    "#         # int(e) = i * int0(i * e)\n",
    "#         # function integrand(x, f)\n",
    "#         #     f[1] = int(x[1])\n",
    "#         # end\n",
    "#         # result, err = cuhre(integrand, rtol=1e-1)\n",
    "#         t1 * piecewise(j, ms, α1, α2) * result[1] / t2\n",
    "#     else\n",
    "#         0.0\n",
    "#     end\n",
    "# end\n",
    "# mergerRateDensity2nd00_bpower(ms, α1, α2, log_fpbh, i, j)"
   ]
  },
  {
   "cell_type": "code",
   "execution_count": 137,
   "metadata": {},
   "outputs": [
    {
     "data": {
      "text/plain": [
       "0.0008319069429246843"
      ]
     },
     "execution_count": 137,
     "metadata": {},
     "output_type": "execute_result"
    }
   ],
   "source": [
    "function mergerRateDensity2nd00_bpower(ms, α1, α2, log_fpbh, i, j)\n",
    "\n",
    "    fpbh = 10.0^log_fpbh\n",
    "\n",
    "    t1 = 8558.45 * 10^(-α1 - 3 * α2) * fpbh * i^(6 / 37) * (i + j)^(72 / 37) * ms^(-79 / 37 - α1) * α1^3 * (1 + α1) * (-1 + α2)\n",
    "    t2 = (fpbh * (1 + α1) * (-1 + α2) / ms / α1 / α2)^(32 / 37) * α2^3\n",
    "    t31 = 10^α1 * ms^(42 / 37 + α1 + α2) * (-1.13514 + α1)\n",
    "    t32 = 10^(α1 + 3 * α2) * ms^α1 * (-2543.35 * α1 - 2543.35 * α2)\n",
    "    t33 = 1000^α2 * ms^(42 / 37) * (39408.3 + 34716.9 * α2)\n",
    "    t4 = j^(31 / 37) * (-42.0 + 37.0 * α1) * (α1 + α2)^4 * (42.0 + 37.0 * α2)\n",
    "\n",
    "    int(e) = piecewise(e, ms, α1, α2) * piecewise(i - e, ms, α1, α2) / e / (-e + i)\n",
    "\n",
    "    ve = range(m_min, i - 1e-5, length=20)\n",
    "    Ie = trapz((ve), int.(ve))\n",
    "\n",
    "    -t1 * t2 * (t31 + t32 + t33) * piecewise(j, ms, α1, α2) / t4 * Ie\n",
    "end\n",
    "\n",
    "\n",
    "mergerRateDensity2nd00_bpower(ms, α1, α2, log_fpbh, i, j)"
   ]
  },
  {
   "cell_type": "code",
   "execution_count": 138,
   "metadata": {},
   "outputs": [
    {
     "data": {
      "text/plain": [
       "(8.89, 3.05, 2.07, 0.00239883291901949, 30, 10, 2)"
      ]
     },
     "execution_count": 138,
     "metadata": {},
     "output_type": "execute_result"
    }
   ],
   "source": [
    "ms, α1, α2, 10^log_fpbh, i, j, 2"
   ]
  },
  {
   "cell_type": "code",
   "execution_count": 139,
   "metadata": {},
   "outputs": [
    {
     "data": {
      "text/plain": [
       "mergerRateDensity2nd_bpower (generic function with 1 method)"
      ]
     },
     "execution_count": 139,
     "metadata": {},
     "output_type": "execute_result"
    }
   ],
   "source": [
    "function mergerRateDensity2nd0_bpower(ms, α1, α2, log_fpbh, i, j)\n",
    "    0.5 * (mergerRateDensity2nd00_bpower(ms, α1, α2, log_fpbh, i, j) + mergerRateDensity2nd00_bpower(ms, α1, α2, log_fpbh, j, i))\n",
    "end\n",
    "\n",
    "mergerRateDensity1st_bpower(ms, α1, α2, log_fpbh, i, j) = mergerRateDensity1st0_bpower.(ms, α1, α2, log_fpbh, i, j)\n",
    "mergerRateDensity2nd_bpower(ms, α1, α2, log_fpbh, i, j) = mergerRateDensity2nd0_bpower.(ms, α1, α2, log_fpbh, i, j)"
   ]
  },
  {
   "cell_type": "code",
   "execution_count": 140,
   "metadata": {},
   "outputs": [
    {
     "data": {
      "text/plain": [
       "0.0004238278431691827"
      ]
     },
     "execution_count": 140,
     "metadata": {},
     "output_type": "execute_result"
    }
   ],
   "source": [
    "mergerRateDensity2nd_bpower(ms, α1, α2, log_fpbh, i, j)"
   ]
  },
  {
   "cell_type": "code",
   "execution_count": 141,
   "metadata": {},
   "outputs": [
    {
     "data": {
      "text/plain": [
       "(55.706377937119406, 0.5431676879699706)"
      ]
     },
     "execution_count": 141,
     "metadata": {},
     "output_type": "execute_result"
    }
   ],
   "source": [
    "t1(i, j) = mergerRateDensity1st0_bpower(ms, α1, α2, log_fpbh, i, j)\n",
    "t2(i,j) = mergerRateDensity2nd0_bpower(ms, α1, α2, log_fpbh, i, j)\n",
    "R1, R2 = mergerRate(t1), mergerRate(t2)"
   ]
  },
  {
   "cell_type": "code",
   "execution_count": 142,
   "metadata": {},
   "outputs": [
    {
     "data": {
      "text/plain": [
       "0.00975054756895325"
      ]
     },
     "execution_count": 142,
     "metadata": {},
     "output_type": "execute_result"
    }
   ],
   "source": [
    "R2/R1"
   ]
  },
  {
   "cell_type": "code",
   "execution_count": null,
   "metadata": {},
   "outputs": [],
   "source": []
  }
 ],
 "metadata": {
  "kernelspec": {
   "display_name": "Julia 1.8.0",
   "language": "julia",
   "name": "julia-1.8"
  },
  "language_info": {
   "file_extension": ".jl",
   "mimetype": "application/julia",
   "name": "julia",
   "version": "1.8.0"
  },
  "orig_nbformat": 4
 },
 "nbformat": 4,
 "nbformat_minor": 2
}
