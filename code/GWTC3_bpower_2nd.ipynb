{
 "cells": [
  {
   "cell_type": "code",
   "execution_count": 1,
   "metadata": {
    "Collapsed": "false"
   },
   "outputs": [],
   "source": [
    "import icarogw\n",
    "import os\n",
    "import bilby\n",
    "import corner\n",
    "import pickle\n",
    "import h5py\n",
    "import matplotlib.pyplot as plt\n",
    "import numpy as np\n",
    "from icarogw.posterior_samples import posterior_samples\n",
    "from icarogw.analyses.cosmo_pop_rate_marginalized import hierarchical_analysis2\n",
    "from icarogw.utils.quick_init import initialize_prior_dict2\n",
    "from icarogw.injections import injections_at_detector2\n",
    "\n",
    "injections0 = pickle.load(open(\n",
    "    \"/home/czc/projects/working/LIGO_posterior/O1_O2_O3_det_frame_SNR9.inj\", \"rb\"))\n",
    "\n",
    "injections = injections_at_detector2(injections0)\n"
   ]
  },
  {
   "cell_type": "code",
   "execution_count": 2,
   "metadata": {},
   "outputs": [
    {
     "name": "stdout",
     "output_type": "stream",
     "text": [
      "150914\n",
      "Using Overall_posterior posterior with a total of 8350 samples\n",
      "151012\n",
      "Using Overall_posterior posterior with a total of 16096 samples\n",
      "151226\n",
      "Using Overall_posterior posterior with a total of 52252 samples\n",
      "170104\n",
      "Using Overall_posterior posterior with a total of 24972 samples\n",
      "170608\n",
      "Using Overall_posterior posterior with a total of 6448 samples\n",
      "170729\n",
      "Using Overall_posterior posterior with a total of 5112 samples\n",
      "170809\n",
      "Using Overall_posterior posterior with a total of 14802 samples\n",
      "170814\n",
      "Using Overall_posterior posterior with a total of 40000 samples\n",
      "170818\n",
      "Using Overall_posterior posterior with a total of 5862 samples\n",
      "170823\n",
      "Using Overall_posterior posterior with a total of 4278 samples\n",
      "190408_181802\n",
      "Using PublicationSamples posterior with a total of 37366 samples\n",
      "190412\n",
      "Using PublicationSamples posterior with a total of 23984 samples\n",
      "190413_134308\n",
      "Using PublicationSamples posterior with a total of 38056 samples\n",
      "190421_213856\n",
      "Using PublicationSamples posterior with a total of 76712 samples\n",
      "190503_185404\n",
      "Using PublicationSamples posterior with a total of 37669 samples\n",
      "190512_180714\n",
      "Using PublicationSamples posterior with a total of 37247 samples\n",
      "190513_205428\n",
      "Using PublicationSamples posterior with a total of 39072 samples\n",
      "190517_055101\n",
      "Using PublicationSamples posterior with a total of 36932 samples\n",
      "190519_153544\n",
      "Using PublicationSamples posterior with a total of 39976 samples\n",
      "190521\n",
      "Using PublicationSamples posterior with a total of 59466 samples\n",
      "190521_074359\n",
      "Using PublicationSamples posterior with a total of 39836 samples\n",
      "190527_092055\n",
      "Using PublicationSamples posterior with a total of 38129 samples\n",
      "190602_175927\n",
      "Using PublicationSamples posterior with a total of 39996 samples\n",
      "190620_030421\n",
      "Using PublicationSamples posterior with a total of 39290 samples\n",
      "190630_185205\n",
      "Using PublicationSamples posterior with a total of 38720 samples\n",
      "190701_203306\n",
      "Using PublicationSamples posterior with a total of 39996 samples\n",
      "190706_222641\n",
      "Using PublicationSamples posterior with a total of 36176 samples\n",
      "190707_093326\n",
      "Using PublicationSamples posterior with a total of 65206 samples\n",
      "190708_232457\n",
      "Using PublicationSamples posterior with a total of 37981 samples\n",
      "190720_000836\n",
      "Using PublicationSamples posterior with a total of 61046 samples\n",
      "190727_060333\n",
      "Using PublicationSamples posterior with a total of 35709 samples\n",
      "190728_064510\n",
      "Using PublicationSamples posterior with a total of 74128 samples\n",
      "190803_022701\n",
      "Using PublicationSamples posterior with a total of 38200 samples\n",
      "190828_063405\n",
      "Using PublicationSamples posterior with a total of 39692 samples\n",
      "190828_065509\n",
      "Using PublicationSamples posterior with a total of 19991 samples\n",
      "190910_112807\n",
      "Using PublicationSamples posterior with a total of 37784 samples\n",
      "190915_235702\n",
      "Using PublicationSamples posterior with a total of 75256 samples\n",
      "190924_021846\n",
      "Using PublicationSamples posterior with a total of 57284 samples\n",
      "190925_232845\n",
      "Using IMRPhenomXPHM posterior with a total of 168818 samples\n",
      "190929_012149\n",
      "Using PublicationSamples posterior with a total of 38018 samples\n",
      "190930_133541\n",
      "Using PublicationSamples posterior with a total of 75670 samples\n",
      "190413_052954\n",
      "Using PublicationSamples posterior with a total of 58046 samples\n",
      "190719_215514\n",
      "Using PublicationSamples posterior with a total of 38698 samples\n",
      "190725_174728\n",
      "Using IMRPhenomXPHM posterior with a total of 23882 samples\n",
      "190731_140936\n",
      "Using PublicationSamples posterior with a total of 38323 samples\n",
      "190805_211137\n",
      "Using IMRPhenomXPHM posterior with a total of 57016 samples\n",
      "191105_143521\n",
      "Using C01:Mixed posterior with a total of 34458 samples\n",
      "191109_010717\n",
      "Using C01:Mixed posterior with a total of 85416 samples\n",
      "191127_050227\n",
      "Using C01:Mixed posterior with a total of 45432 samples\n",
      "191129_134029\n",
      "Using C01:Mixed posterior with a total of 41494 samples\n",
      "191204_171526\n",
      "Using C01:Mixed posterior with a total of 27704 samples\n",
      "191215_223052\n",
      "Using C01:Mixed posterior with a total of 25436 samples\n",
      "191216_213338\n",
      "Using C01:Mixed posterior with a total of 17792 samples\n",
      "191222_033537\n",
      "Using C01:Mixed posterior with a total of 43168 samples\n",
      "191230_180458\n",
      "Using C01:Mixed posterior with a total of 37238 samples\n",
      "200112_155838\n",
      "Using C01:Mixed posterior with a total of 9898 samples\n",
      "200128_022011\n",
      "Using C01:Mixed posterior with a total of 35134 samples\n",
      "200129_065458\n",
      "Using C01:Mixed posterior with a total of 3194 samples\n",
      "200202_154313\n",
      "Using C01:Mixed posterior with a total of 56226 samples\n",
      "200208_130117\n",
      "Using C01:Mixed posterior with a total of 48142 samples\n",
      "200209_085452\n",
      "Using C01:Mixed posterior with a total of 48092 samples\n",
      "200219_094415\n",
      "Using C01:Mixed posterior with a total of 51584 samples\n",
      "200224_222234\n",
      "Using C01:Mixed posterior with a total of 27066 samples\n",
      "200225_060421\n",
      "Using C01:Mixed posterior with a total of 38484 samples\n",
      "200302_015811\n",
      "Using C01:Mixed posterior with a total of 50872 samples\n",
      "200311_115853\n",
      "Using C01:Mixed posterior with a total of 36982 samples\n",
      "200316_215756\n",
      "Using C01:Mixed posterior with a total of 268806 samples\n",
      "191103_012549\n",
      "Using C01:Mixed posterior with a total of 57156 samples\n",
      "200216_220804\n",
      "Using C01:Mixed posterior with a total of 42716 samples\n",
      "Using 69 events.\n"
     ]
    }
   ],
   "source": [
    "# Read the posterior samples\n",
    "posterior_dict = {}\n",
    "base_dir = \"/home/czc/projects/working/LIGO_posterior\"\n",
    "\n",
    "\n",
    "list_evO1O2 = [\"150914\", \"151012\", \"151226\", \"170104\", \"170608\", \"170729\", \"170809\", \"170814\", \"170818\", \"170823\"]\n",
    "for event in list_evO1O2:\n",
    "    print(event)\n",
    "    filename = f\"{base_dir}/GWTC-1/GW{event}_GWTC-1.hdf5\"\n",
    "    pos_samples = posterior_samples(filename)\n",
    "    posterior_dict[event] = pos_samples\n",
    "\n",
    "\n",
    "\n",
    "list_evO3a = [\"190408_181802\", \"190412\", \"190413_134308\", \"190421_213856\", \"190503_185404\", \"190512_180714\", \"190513_205428\", \"190517_055101\", \"190519_153544\", \"190521\", \"190521_074359\", \"190527_092055\", \"190602_175927\", \"190620_030421\", \"190630_185205\", \"190701_203306\", \"190706_222641\", \"190707_093326\", \"190708_232457\", \"190720_000836\", \"190727_060333\", \"190728_064510\", \"190803_022701\", \"190828_063405\", \"190828_065509\", \"190910_112807\",\n",
    "                           \"190915_235702\", \"190924_021846\", \"190925_232845\", \"190929_012149\", \"190930_133541\", \"190413_052954\", \"190719_215514\", \"190725_174728\", \"190731_140936\", \"190805_211137\"]\n",
    "for event in list(list_evO3a):\n",
    "    if event != '190814':\n",
    "        print(event)\n",
    "        filename = f\"{base_dir}/GWTC-2/GW{event}.h5\"\n",
    "        pos_samples = posterior_samples(filename)\n",
    "        posterior_dict[event] = pos_samples\n",
    "\n",
    "\n",
    "list_evO3b = [\"191105_143521\", \"191109_010717\", \"191127_050227\", \"191129_134029\", \"191204_171526\", \"191215_223052\", \"191216_213338\", \"191222_033537\", \"191230_180458\", \"200112_155838\", \"200128_022011\", \"200129_065458\", \"200202_154313\", \"200208_130117\",\n",
    "              \"200209_085452\", \"200219_094415\", \"200224_222234\", \"200225_060421\", \"200302_015811\", \"200311_115853\", \"200316_215756\", \"191103_012549\", \"200216_220804\"]\n",
    "for event in list(list_evO3b):\n",
    "    print(event)\n",
    "    filename = f\"{base_dir}/GWTC-3/IGWN-GWTC3p0-v1-GW{event}_PEDataRelease_mixed_nocosmo.h5\"\n",
    "    pos_samples = posterior_samples(filename, waveform='C01:Mixed')\n",
    "    posterior_dict[event] = pos_samples\n",
    "\n",
    "print(f\"Using {len(posterior_dict)} events.\")\n",
    "\n"
   ]
  },
  {
   "cell_type": "code",
   "execution_count": 3,
   "metadata": {},
   "outputs": [],
   "source": [
    "# # Read the posterior samples\n",
    "# posterior_dict = {}\n",
    "# base_dir = \"/home/czc/projects/working/LIGO_posterior\"\n",
    "\n",
    "# list_evO1O2 = icarogw.utils.quick_init.initialize_events_dict(\n",
    "#     runs=['O1', 'O2'], type=['BBH', 'SPECIAL'], snr_cut=11)\n",
    "# for event in list(list_evO1O2.keys()):\n",
    "#     print(event)\n",
    "#     filename = f\"{base_dir}/GWTC-1/{event}_GWTC-1.hdf5\"\n",
    "#     pos_samples = posterior_samples(filename)\n",
    "#     posterior_dict[event] = pos_samples\n",
    "\n",
    "# list_evO3a = icarogw.utils.quick_init.initialize_events_dict(\n",
    "#     runs=['O3a'], type=['BBH', 'SPECIAL'], snr_cut=11)\n",
    "# for event in list(list_evO3a.keys()):\n",
    "#     if event != 'GW190814':\n",
    "#         print(event)\n",
    "#         filename = f\"{base_dir}/GWTC-2/{event}.h5\"\n",
    "#         pos_samples = posterior_samples(filename)\n",
    "#         posterior_dict[event] = pos_samples\n",
    "\n",
    "# list_evO3b = icarogw.utils.quick_init.initialize_events_dict(\n",
    "#     runs=['O3b'], type=['BBH', 'SPECIAL'], snr_cut=11)\n",
    "# for event in list(list_evO3b.keys()):\n",
    "#     print(event)\n",
    "#     filename = f\"{base_dir}/GWTC-3/IGWN-GWTC3p0-v1-{event}_PEDataRelease_mixed_nocosmo.h5\"\n",
    "#     pos_samples = posterior_samples(filename, waveform='C01:Mixed')\n",
    "#     posterior_dict[event] = pos_samples\n",
    "\n",
    "# print(f\"Using {len(posterior_dict)} events.\")"
   ]
  },
  {
   "cell_type": "code",
   "execution_count": 4,
   "metadata": {},
   "outputs": [
    {
     "name": "stdout",
     "output_type": "stream",
     "text": [
      "Selecting injections with SNR 9.000000 and IFAR 0.000000 yr\n"
     ]
    }
   ],
   "source": [
    "population_model = \"PBH-bpower-2nd\"\n",
    "cosmology_model = 'flatLCDM'\n",
    "outdir = f'H0_GWTC-3_{population_model}_{cosmology_model}_4/'\n",
    "injections.update_cut(snr_cut=9, ifar_cut=0) # We are going to update the injections with the new SNR cut to 12"
   ]
  },
  {
   "cell_type": "code",
   "execution_count": 5,
   "metadata": {
    "Collapsed": "false"
   },
   "outputs": [
    {
     "data": {
      "text/plain": [
       "{'ms': Uniform(minimum=3.0, maximum=15.0, name='$m_*$', latex_label='$m_*$', unit=None, boundary=None),\n",
       " 'α1': Uniform(minimum=0.0, maximum=100.0, name='$\\\\alpha_1$', latex_label='$\\\\alpha_1$', unit=None, boundary=None),\n",
       " 'α2': Uniform(minimum=1.0, maximum=3.0, name='$\\\\alpha_2$', latex_label='$\\\\alpha_2$', unit=None, boundary=None),\n",
       " 'log_fpbh': Uniform(minimum=-4.0, maximum=0.0, name='$\\\\log_{10}fpbh$', latex_label='$\\\\log_{10}fpbh$', unit=None, boundary=None),\n",
       " 'H0': 67.4,\n",
       " 'Om0': 0.315}"
      ]
     },
     "execution_count": 5,
     "metadata": {},
     "output_type": "execute_result"
    }
   ],
   "source": [
    "# Setup the priors here. We are going to sample on just H0 and the maximum BH mass for a powerlaw model, just to speed up the code and fixing all the parameters\n",
    "from bilby.core.prior import Uniform\n",
    "prior_dict = initialize_prior_dict2(population_model, cosmology_model)\n",
    "\n",
    "prior_dict['H0'] = 67.4\n",
    "prior_dict['Om0'] = 0.315\n",
    "\n",
    "# prior_dict['ms'] = Uniform(5.0, 15.0, name='$m_*$')\n",
    "# prior_dict['α1'] = Uniform(0.0, 80.0, name='$\\\\alpha_1$')\n",
    "# prior_dict['α2'] = Uniform(1.0, 3.0, name='$\\\\alpha_2$')\n",
    "# prior_dict['log_fpbh'] = Uniform(-3.0, 0.0, name='$\\\\log_{10}fpbh$')\n",
    "\n",
    "prior_dict"
   ]
  },
  {
   "cell_type": "code",
   "execution_count": 6,
   "metadata": {
    "Collapsed": "false"
   },
   "outputs": [
    {
     "name": "stderr",
     "output_type": "stream",
     "text": [
      "21:54 bilby INFO    : Running for label 'dynesty', output will be saved to 'H0_GWTC-3_PBH-bpower-2nd_flatLCDM_4/'\n",
      "21:54 bilby INFO    : Search parameters:\n",
      "21:54 bilby INFO    :   ms = Uniform(minimum=3.0, maximum=15.0, name='$m_*$', latex_label='$m_*$', unit=None, boundary=None)\n",
      "21:54 bilby INFO    :   α1 = Uniform(minimum=0.0, maximum=100.0, name='$\\\\alpha_1$', latex_label='$\\\\alpha_1$', unit=None, boundary=None)\n",
      "21:54 bilby INFO    :   α2 = Uniform(minimum=1.0, maximum=3.0, name='$\\\\alpha_2$', latex_label='$\\\\alpha_2$', unit=None, boundary=None)\n",
      "21:54 bilby INFO    :   log_fpbh = Uniform(minimum=-4.0, maximum=0.0, name='$\\\\log_{10}fpbh$', latex_label='$\\\\log_{10}fpbh$', unit=None, boundary=None)\n",
      "21:54 bilby INFO    :   H0 = 67.4\n",
      "21:54 bilby INFO    :   Om0 = 0.315\n"
     ]
    },
    {
     "name": "stdout",
     "output_type": "stream",
     "text": [
      "Using the parallel mode with 2000 samples\n"
     ]
    },
    {
     "name": "stderr",
     "output_type": "stream",
     "text": [
      "21:56 bilby INFO    : Single likelihood evaluation took 1.083e+00 s\n"
     ]
    },
    {
     "name": "stdout",
     "output_type": "stream",
     "text": [
      "0it [00:00, ?it/s]"
     ]
    },
    {
     "name": "stderr",
     "output_type": "stream",
     "text": [
      "21:56 bilby INFO    : Using sampler Dynesty with kwargs {'bound': 'multi', 'sample': 'rwalk', 'verbose': True, 'periodic': None, 'reflective': None, 'check_point_delta_t': 600, 'nlive': 500, 'first_update': None, 'walks': 20, 'npdim': None, 'rstate': None, 'queue_size': 32, 'pool': None, 'use_pool': None, 'live_points': None, 'logl_args': None, 'logl_kwargs': None, 'ptform_args': None, 'ptform_kwargs': None, 'enlarge': 1.5, 'bootstrap': None, 'vol_dec': 0.5, 'vol_check': 8.0, 'facc': 0.2, 'slices': 5, 'update_interval': 300, 'print_func': <bound method Dynesty._print_func of <bilby.core.sampler.dynesty.Dynesty object at 0x7f103d9f22e0>>, 'dlogz': 0.1, 'maxiter': None, 'maxcall': None, 'logl_max': inf, 'add_live': True, 'print_progress': True, 'save_bounds': False, 'n_effective': None, 'maxmcmc': 5000, 'nact': 2}\n",
      "21:56 bilby INFO    : Checkpoint every check_point_delta_t = 60s\n",
      "21:56 bilby INFO    : Using dynesty version 1.0.1\n",
      "21:56 bilby INFO    : Using the bilby-implemented rwalk sample method with ACT estimated walks\n",
      "21:56 bilby INFO    : Setting up multiproccesing pool with 32 processes.\n",
      "21:56 bilby INFO    : Reading resume file H0_GWTC-3_PBH-bpower-2nd_flatLCDM_4//dynesty_resume.pickle\n",
      "21:56 bilby INFO    : Resume file successfully loaded.\n"
     ]
    },
    {
     "name": "stdout",
     "output_type": "stream",
     "text": [
      "4030it [01:05, 61.41it/s, bound:226 nc: 31 ncall:9.1e+04 eff:4.4% logz=-1777.52+/-0.16 dlogz:3.544>0.1]"
     ]
    },
    {
     "name": "stderr",
     "output_type": "stream",
     "text": [
      "21:57 bilby INFO    : Written checkpoint file H0_GWTC-3_PBH-bpower-2nd_flatLCDM_4//dynesty_resume.pickle\n",
      "/home/czc/opt/miniconda3/envs/icarogw/lib/python3.9/site-packages/dynesty/plotting.py:245: UserWarning: Attempting to set identical bottom == top == 0.0 results in singular transformations; automatically expanding.\n",
      "  axes[i].set_ylim([ymin, ymax])\n"
     ]
    },
    {
     "name": "stdout",
     "output_type": "stream",
     "text": [
      "4061it [02:13, 20.15it/s, bound:229 nc: 34 ncall:9.2e+04 eff:4.4% logz=-1777.46+/-0.17 dlogz:3.422>0.1]"
     ]
    },
    {
     "name": "stderr",
     "output_type": "stream",
     "text": [
      "21:58 bilby INFO    : Written checkpoint file H0_GWTC-3_PBH-bpower-2nd_flatLCDM_4//dynesty_resume.pickle\n",
      "/home/czc/opt/miniconda3/envs/icarogw/lib/python3.9/site-packages/dynesty/plotting.py:245: UserWarning: Attempting to set identical bottom == top == 0.0 results in singular transformations; automatically expanding.\n",
      "  axes[i].set_ylim([ymin, ymax])\n"
     ]
    },
    {
     "name": "stdout",
     "output_type": "stream",
     "text": [
      "4091it [03:20,  8.67it/s, bound:233 nc: 35 ncall:9.3e+04 eff:4.4% logz=-1777.40+/-0.17 dlogz:3.307>0.1]"
     ]
    },
    {
     "name": "stderr",
     "output_type": "stream",
     "text": [
      "21:59 bilby INFO    : Written checkpoint file H0_GWTC-3_PBH-bpower-2nd_flatLCDM_4//dynesty_resume.pickle\n",
      "21:59 bilby INFO    : Writing 101 current samples to H0_GWTC-3_PBH-bpower-2nd_flatLCDM_4//dynesty_samples.dat\n",
      "/home/czc/opt/miniconda3/envs/icarogw/lib/python3.9/site-packages/dynesty/plotting.py:245: UserWarning: Attempting to set identical bottom == top == 0.0 results in singular transformations; automatically expanding.\n",
      "  axes[i].set_ylim([ymin, ymax])\n"
     ]
    },
    {
     "name": "stdout",
     "output_type": "stream",
     "text": [
      "4122it [04:24,  4.30it/s, bound:236 nc: 36 ncall:9.4e+04 eff:4.4% logz=-1777.34+/-0.17 dlogz:3.190>0.1]"
     ]
    },
    {
     "name": "stderr",
     "output_type": "stream",
     "text": [
      "22:00 bilby INFO    : Written checkpoint file H0_GWTC-3_PBH-bpower-2nd_flatLCDM_4//dynesty_resume.pickle\n",
      "22:00 bilby INFO    : Writing 107 current samples to H0_GWTC-3_PBH-bpower-2nd_flatLCDM_4//dynesty_samples.dat\n",
      "/home/czc/opt/miniconda3/envs/icarogw/lib/python3.9/site-packages/dynesty/plotting.py:245: UserWarning: Attempting to set identical bottom == top == 0.0 results in singular transformations; automatically expanding.\n",
      "  axes[i].set_ylim([ymin, ymax])\n"
     ]
    },
    {
     "name": "stdout",
     "output_type": "stream",
     "text": [
      "4150it [05:30,  2.22it/s, bound:240 nc: 47 ncall:9.5e+04 eff:4.3% logz=-1777.29+/-0.17 dlogz:3.085>0.1]"
     ]
    },
    {
     "name": "stderr",
     "output_type": "stream",
     "text": [
      "22:01 bilby INFO    : Written checkpoint file H0_GWTC-3_PBH-bpower-2nd_flatLCDM_4//dynesty_resume.pickle\n",
      "22:01 bilby INFO    : Writing 125 current samples to H0_GWTC-3_PBH-bpower-2nd_flatLCDM_4//dynesty_samples.dat\n",
      "/home/czc/opt/miniconda3/envs/icarogw/lib/python3.9/site-packages/dynesty/plotting.py:245: UserWarning: Attempting to set identical bottom == top == 0.0 results in singular transformations; automatically expanding.\n",
      "  axes[i].set_ylim([ymin, ymax])\n"
     ]
    },
    {
     "name": "stdout",
     "output_type": "stream",
     "text": [
      "4179it [06:38,  1.25it/s, bound:243 nc: 37 ncall:9.7e+04 eff:4.3% logz=-1777.23+/-0.17 dlogz:2.980>0.1]"
     ]
    },
    {
     "name": "stderr",
     "output_type": "stream",
     "text": [
      "22:03 bilby INFO    : Written checkpoint file H0_GWTC-3_PBH-bpower-2nd_flatLCDM_4//dynesty_resume.pickle\n",
      "22:03 bilby INFO    : Writing 127 current samples to H0_GWTC-3_PBH-bpower-2nd_flatLCDM_4//dynesty_samples.dat\n",
      "/home/czc/opt/miniconda3/envs/icarogw/lib/python3.9/site-packages/dynesty/plotting.py:245: UserWarning: Attempting to set identical bottom == top == 0.0 results in singular transformations; automatically expanding.\n",
      "  axes[i].set_ylim([ymin, ymax])\n"
     ]
    },
    {
     "name": "stdout",
     "output_type": "stream",
     "text": [
      "4207it [07:44,  1.26s/it, bound:247 nc: 39 ncall:9.8e+04 eff:4.3% logz=-1777.18+/-0.17 dlogz:2.879>0.1]"
     ]
    },
    {
     "name": "stderr",
     "output_type": "stream",
     "text": [
      "22:04 bilby INFO    : Written checkpoint file H0_GWTC-3_PBH-bpower-2nd_flatLCDM_4//dynesty_resume.pickle\n",
      "22:04 bilby INFO    : Writing 110 current samples to H0_GWTC-3_PBH-bpower-2nd_flatLCDM_4//dynesty_samples.dat\n",
      "/home/czc/opt/miniconda3/envs/icarogw/lib/python3.9/site-packages/dynesty/plotting.py:245: UserWarning: Attempting to set identical bottom == top == 0.0 results in singular transformations; automatically expanding.\n",
      "  axes[i].set_ylim([ymin, ymax])\n"
     ]
    },
    {
     "name": "stdout",
     "output_type": "stream",
     "text": [
      "4237it [08:49,  1.67s/it, bound:250 nc: 35 ncall:9.9e+04 eff:4.3% logz=-1777.13+/-0.17 dlogz:2.773>0.1]"
     ]
    },
    {
     "name": "stderr",
     "output_type": "stream",
     "text": [
      "22:05 bilby INFO    : Written checkpoint file H0_GWTC-3_PBH-bpower-2nd_flatLCDM_4//dynesty_resume.pickle\n",
      "22:05 bilby INFO    : Writing 125 current samples to H0_GWTC-3_PBH-bpower-2nd_flatLCDM_4//dynesty_samples.dat\n",
      "/home/czc/opt/miniconda3/envs/icarogw/lib/python3.9/site-packages/dynesty/plotting.py:245: UserWarning: Attempting to set identical bottom == top == 0.0 results in singular transformations; automatically expanding.\n",
      "  axes[i].set_ylim([ymin, ymax])\n"
     ]
    },
    {
     "name": "stdout",
     "output_type": "stream",
     "text": [
      "4269it [09:56,  1.96s/it, bound:253 nc: 40 ncall:1.0e+05 eff:4.3% logz=-1777.08+/-0.17 dlogz:2.662>0.1]"
     ]
    },
    {
     "name": "stderr",
     "output_type": "stream",
     "text": [
      "22:06 bilby INFO    : Written checkpoint file H0_GWTC-3_PBH-bpower-2nd_flatLCDM_4//dynesty_resume.pickle\n",
      "22:06 bilby INFO    : Writing 136 current samples to H0_GWTC-3_PBH-bpower-2nd_flatLCDM_4//dynesty_samples.dat\n",
      "/home/czc/opt/miniconda3/envs/icarogw/lib/python3.9/site-packages/dynesty/plotting.py:245: UserWarning: Attempting to set identical bottom == top == 0.0 results in singular transformations; automatically expanding.\n",
      "  axes[i].set_ylim([ymin, ymax])\n"
     ]
    },
    {
     "name": "stdout",
     "output_type": "stream",
     "text": [
      "4298it [11:03,  2.19s/it, bound:257 nc: 38 ncall:1.0e+05 eff:4.3% logz=-1777.03+/-0.17 dlogz:2.564>0.1]"
     ]
    },
    {
     "name": "stderr",
     "output_type": "stream",
     "text": [
      "22:07 bilby INFO    : Written checkpoint file H0_GWTC-3_PBH-bpower-2nd_flatLCDM_4//dynesty_resume.pickle\n",
      "22:07 bilby INFO    : Writing 147 current samples to H0_GWTC-3_PBH-bpower-2nd_flatLCDM_4//dynesty_samples.dat\n",
      "/home/czc/opt/miniconda3/envs/icarogw/lib/python3.9/site-packages/dynesty/plotting.py:245: UserWarning: Attempting to set identical bottom == top == 0.0 results in singular transformations; automatically expanding.\n",
      "  axes[i].set_ylim([ymin, ymax])\n"
     ]
    },
    {
     "name": "stdout",
     "output_type": "stream",
     "text": [
      "4328it [12:08,  2.23s/it, bound:260 nc:112 ncall:1.0e+05 eff:4.2% logz=-1776.98+/-0.17 dlogz:2.465>0.1]"
     ]
    },
    {
     "name": "stderr",
     "output_type": "stream",
     "text": [
      "22:08 bilby INFO    : Written checkpoint file H0_GWTC-3_PBH-bpower-2nd_flatLCDM_4//dynesty_resume.pickle\n",
      "22:08 bilby INFO    : Writing 161 current samples to H0_GWTC-3_PBH-bpower-2nd_flatLCDM_4//dynesty_samples.dat\n",
      "/home/czc/opt/miniconda3/envs/icarogw/lib/python3.9/site-packages/dynesty/plotting.py:245: UserWarning: Attempting to set identical bottom == top == 0.0 results in singular transformations; automatically expanding.\n",
      "  axes[i].set_ylim([ymin, ymax])\n"
     ]
    },
    {
     "name": "stdout",
     "output_type": "stream",
     "text": [
      "4358it [13:14,  2.21s/it, bound:264 nc: 34 ncall:1.0e+05 eff:4.2% logz=-1776.94+/-0.17 dlogz:2.369>0.1]"
     ]
    },
    {
     "name": "stderr",
     "output_type": "stream",
     "text": [
      "22:09 bilby INFO    : Written checkpoint file H0_GWTC-3_PBH-bpower-2nd_flatLCDM_4//dynesty_resume.pickle\n",
      "22:09 bilby INFO    : Writing 163 current samples to H0_GWTC-3_PBH-bpower-2nd_flatLCDM_4//dynesty_samples.dat\n",
      "/home/czc/opt/miniconda3/envs/icarogw/lib/python3.9/site-packages/dynesty/plotting.py:245: UserWarning: Attempting to set identical bottom == top == 0.0 results in singular transformations; automatically expanding.\n",
      "  axes[i].set_ylim([ymin, ymax])\n"
     ]
    },
    {
     "name": "stdout",
     "output_type": "stream",
     "text": [
      "4388it [14:18,  2.52s/it, bound:267 nc: 21 ncall:1.0e+05 eff:4.2% logz=-1776.89+/-0.17 dlogz:2.275>0.1]"
     ]
    },
    {
     "name": "stderr",
     "output_type": "stream",
     "text": [
      "22:10 bilby INFO    : Written checkpoint file H0_GWTC-3_PBH-bpower-2nd_flatLCDM_4//dynesty_resume.pickle\n",
      "22:10 bilby INFO    : Writing 165 current samples to H0_GWTC-3_PBH-bpower-2nd_flatLCDM_4//dynesty_samples.dat\n",
      "/home/czc/opt/miniconda3/envs/icarogw/lib/python3.9/site-packages/dynesty/plotting.py:245: UserWarning: Attempting to set identical bottom == top == 0.0 results in singular transformations; automatically expanding.\n",
      "  axes[i].set_ylim([ymin, ymax])\n"
     ]
    },
    {
     "name": "stdout",
     "output_type": "stream",
     "text": [
      "4413it [15:24,  2.57s/it, bound:270 nc: 77 ncall:1.1e+05 eff:4.2% logz=-1776.86+/-0.17 dlogz:2.198>0.1]"
     ]
    },
    {
     "name": "stderr",
     "output_type": "stream",
     "text": [
      "22:11 bilby INFO    : Written checkpoint file H0_GWTC-3_PBH-bpower-2nd_flatLCDM_4//dynesty_resume.pickle\n",
      "22:11 bilby INFO    : Writing 193 current samples to H0_GWTC-3_PBH-bpower-2nd_flatLCDM_4//dynesty_samples.dat\n",
      "/home/czc/opt/miniconda3/envs/icarogw/lib/python3.9/site-packages/dynesty/plotting.py:245: UserWarning: Attempting to set identical bottom == top == 0.0 results in singular transformations; automatically expanding.\n",
      "  axes[i].set_ylim([ymin, ymax])\n"
     ]
    },
    {
     "name": "stdout",
     "output_type": "stream",
     "text": [
      "4435it [16:30,  3.14s/it, bound:274 nc: 25 ncall:1.1e+05 eff:4.2% logz=-1776.82+/-0.17 dlogz:2.132>0.1]"
     ]
    },
    {
     "name": "stderr",
     "output_type": "stream",
     "text": [
      "22:12 bilby INFO    : Written checkpoint file H0_GWTC-3_PBH-bpower-2nd_flatLCDM_4//dynesty_resume.pickle\n",
      "22:12 bilby INFO    : Writing 199 current samples to H0_GWTC-3_PBH-bpower-2nd_flatLCDM_4//dynesty_samples.dat\n",
      "/home/czc/opt/miniconda3/envs/icarogw/lib/python3.9/site-packages/dynesty/plotting.py:245: UserWarning: Attempting to set identical bottom == top == 0.0 results in singular transformations; automatically expanding.\n",
      "  axes[i].set_ylim([ymin, ymax])\n"
     ]
    },
    {
     "name": "stdout",
     "output_type": "stream",
     "text": [
      "4465it [17:40,  3.15s/it, bound:277 nc: 40 ncall:1.1e+05 eff:4.2% logz=-1776.78+/-0.17 dlogz:2.043>0.1]"
     ]
    },
    {
     "name": "stderr",
     "output_type": "stream",
     "text": [
      "22:14 bilby INFO    : Written checkpoint file H0_GWTC-3_PBH-bpower-2nd_flatLCDM_4//dynesty_resume.pickle\n",
      "22:14 bilby INFO    : Writing 242 current samples to H0_GWTC-3_PBH-bpower-2nd_flatLCDM_4//dynesty_samples.dat\n",
      "/home/czc/opt/miniconda3/envs/icarogw/lib/python3.9/site-packages/dynesty/plotting.py:245: UserWarning: Attempting to set identical bottom == top == 0.0 results in singular transformations; automatically expanding.\n",
      "  axes[i].set_ylim([ymin, ymax])\n"
     ]
    },
    {
     "name": "stdout",
     "output_type": "stream",
     "text": [
      "4494it [18:50,  3.10s/it, bound:281 nc: 39 ncall:1.1e+05 eff:4.1% logz=-1776.74+/-0.17 dlogz:2.025>0.1]"
     ]
    },
    {
     "name": "stderr",
     "output_type": "stream",
     "text": [
      "22:15 bilby INFO    : Written checkpoint file H0_GWTC-3_PBH-bpower-2nd_flatLCDM_4//dynesty_resume.pickle\n",
      "22:15 bilby INFO    : Writing 176 current samples to H0_GWTC-3_PBH-bpower-2nd_flatLCDM_4//dynesty_samples.dat\n",
      "/home/czc/opt/miniconda3/envs/icarogw/lib/python3.9/site-packages/dynesty/plotting.py:245: UserWarning: Attempting to set identical bottom == top == 0.0 results in singular transformations; automatically expanding.\n",
      "  axes[i].set_ylim([ymin, ymax])\n"
     ]
    },
    {
     "name": "stdout",
     "output_type": "stream",
     "text": [
      "4523it [19:58,  2.94s/it, bound:285 nc: 37 ncall:1.1e+05 eff:4.1% logz=-1776.71+/-0.17 dlogz:2.102>0.1]"
     ]
    },
    {
     "name": "stderr",
     "output_type": "stream",
     "text": [
      "22:16 bilby INFO    : Written checkpoint file H0_GWTC-3_PBH-bpower-2nd_flatLCDM_4//dynesty_resume.pickle\n",
      "22:16 bilby INFO    : Writing 185 current samples to H0_GWTC-3_PBH-bpower-2nd_flatLCDM_4//dynesty_samples.dat\n",
      "/home/czc/opt/miniconda3/envs/icarogw/lib/python3.9/site-packages/dynesty/plotting.py:245: UserWarning: Attempting to set identical bottom == top == 0.0 results in singular transformations; automatically expanding.\n",
      "  axes[i].set_ylim([ymin, ymax])\n"
     ]
    },
    {
     "name": "stdout",
     "output_type": "stream",
     "text": [
      "4552it [21:06,  2.81s/it, bound:289 nc: 33 ncall:1.1e+05 eff:4.1% logz=-1776.67+/-0.17 dlogz:2.020>0.1]"
     ]
    },
    {
     "name": "stderr",
     "output_type": "stream",
     "text": [
      "22:17 bilby INFO    : Written checkpoint file H0_GWTC-3_PBH-bpower-2nd_flatLCDM_4//dynesty_resume.pickle\n",
      "22:17 bilby INFO    : Writing 187 current samples to H0_GWTC-3_PBH-bpower-2nd_flatLCDM_4//dynesty_samples.dat\n",
      "/home/czc/opt/miniconda3/envs/icarogw/lib/python3.9/site-packages/dynesty/plotting.py:245: UserWarning: Attempting to set identical bottom == top == 0.0 results in singular transformations; automatically expanding.\n",
      "  axes[i].set_ylim([ymin, ymax])\n"
     ]
    },
    {
     "name": "stdout",
     "output_type": "stream",
     "text": [
      "4583it [22:15,  2.62s/it, bound:292 nc: 36 ncall:1.1e+05 eff:4.1% logz=-1776.63+/-0.17 dlogz:1.935>0.1]"
     ]
    },
    {
     "name": "stderr",
     "output_type": "stream",
     "text": [
      "22:18 bilby INFO    : Written checkpoint file H0_GWTC-3_PBH-bpower-2nd_flatLCDM_4//dynesty_resume.pickle\n",
      "22:18 bilby INFO    : Writing 196 current samples to H0_GWTC-3_PBH-bpower-2nd_flatLCDM_4//dynesty_samples.dat\n",
      "/home/czc/opt/miniconda3/envs/icarogw/lib/python3.9/site-packages/dynesty/plotting.py:245: UserWarning: Attempting to set identical bottom == top == 0.0 results in singular transformations; automatically expanding.\n",
      "  axes[i].set_ylim([ymin, ymax])\n"
     ]
    },
    {
     "name": "stdout",
     "output_type": "stream",
     "text": [
      "4614it [23:25,  2.48s/it, bound:296 nc: 37 ncall:1.1e+05 eff:4.1% logz=-1776.60+/-0.17 dlogz:1.852>0.1]"
     ]
    },
    {
     "name": "stderr",
     "output_type": "stream",
     "text": [
      "22:19 bilby INFO    : Written checkpoint file H0_GWTC-3_PBH-bpower-2nd_flatLCDM_4//dynesty_resume.pickle\n",
      "22:19 bilby INFO    : Writing 236 current samples to H0_GWTC-3_PBH-bpower-2nd_flatLCDM_4//dynesty_samples.dat\n",
      "/home/czc/opt/miniconda3/envs/icarogw/lib/python3.9/site-packages/dynesty/plotting.py:245: UserWarning: Attempting to set identical bottom == top == 0.0 results in singular transformations; automatically expanding.\n",
      "  axes[i].set_ylim([ymin, ymax])\n"
     ]
    },
    {
     "name": "stdout",
     "output_type": "stream",
     "text": [
      "4645it [24:34,  2.35s/it, bound:300 nc: 36 ncall:1.1e+05 eff:4.0% logz=-1776.57+/-0.17 dlogz:1.772>0.1]"
     ]
    },
    {
     "name": "stderr",
     "output_type": "stream",
     "text": [
      "22:21 bilby INFO    : Written checkpoint file H0_GWTC-3_PBH-bpower-2nd_flatLCDM_4//dynesty_resume.pickle\n",
      "22:21 bilby INFO    : Writing 255 current samples to H0_GWTC-3_PBH-bpower-2nd_flatLCDM_4//dynesty_samples.dat\n",
      "/home/czc/opt/miniconda3/envs/icarogw/lib/python3.9/site-packages/dynesty/plotting.py:245: UserWarning: Attempting to set identical bottom == top == 0.0 results in singular transformations; automatically expanding.\n",
      "  axes[i].set_ylim([ymin, ymax])\n"
     ]
    },
    {
     "name": "stdout",
     "output_type": "stream",
     "text": [
      "4674it [25:43,  2.64s/it, bound:304 nc: 38 ncall:1.2e+05 eff:4.0% logz=-1776.54+/-0.17 dlogz:1.700>0.1]"
     ]
    },
    {
     "name": "stderr",
     "output_type": "stream",
     "text": [
      "22:22 bilby INFO    : Written checkpoint file H0_GWTC-3_PBH-bpower-2nd_flatLCDM_4//dynesty_resume.pickle\n",
      "22:22 bilby INFO    : Writing 270 current samples to H0_GWTC-3_PBH-bpower-2nd_flatLCDM_4//dynesty_samples.dat\n",
      "/home/czc/opt/miniconda3/envs/icarogw/lib/python3.9/site-packages/dynesty/plotting.py:245: UserWarning: Attempting to set identical bottom == top == 0.0 results in singular transformations; automatically expanding.\n",
      "  axes[i].set_ylim([ymin, ymax])\n"
     ]
    },
    {
     "name": "stdout",
     "output_type": "stream",
     "text": [
      "4702it [26:49,  2.71s/it, bound:307 nc: 31 ncall:1.2e+05 eff:4.0% logz=-1776.51+/-0.17 dlogz:1.631>0.1]"
     ]
    },
    {
     "name": "stderr",
     "output_type": "stream",
     "text": [
      "22:23 bilby INFO    : Written checkpoint file H0_GWTC-3_PBH-bpower-2nd_flatLCDM_4//dynesty_resume.pickle\n",
      "22:23 bilby INFO    : Writing 271 current samples to H0_GWTC-3_PBH-bpower-2nd_flatLCDM_4//dynesty_samples.dat\n",
      "/home/czc/opt/miniconda3/envs/icarogw/lib/python3.9/site-packages/dynesty/plotting.py:245: UserWarning: Attempting to set identical bottom == top == 0.0 results in singular transformations; automatically expanding.\n",
      "  axes[i].set_ylim([ymin, ymax])\n"
     ]
    },
    {
     "name": "stdout",
     "output_type": "stream",
     "text": [
      "4726it [27:56,  3.03s/it, bound:311 nc: 38 ncall:1.2e+05 eff:4.0% logz=-1776.48+/-0.17 dlogz:1.573>0.1]"
     ]
    },
    {
     "name": "stderr",
     "output_type": "stream",
     "text": [
      "22:24 bilby INFO    : Written checkpoint file H0_GWTC-3_PBH-bpower-2nd_flatLCDM_4//dynesty_resume.pickle\n",
      "22:24 bilby INFO    : Writing 279 current samples to H0_GWTC-3_PBH-bpower-2nd_flatLCDM_4//dynesty_samples.dat\n",
      "/home/czc/opt/miniconda3/envs/icarogw/lib/python3.9/site-packages/dynesty/plotting.py:245: UserWarning: Attempting to set identical bottom == top == 0.0 results in singular transformations; automatically expanding.\n",
      "  axes[i].set_ylim([ymin, ymax])\n"
     ]
    },
    {
     "name": "stdout",
     "output_type": "stream",
     "text": [
      "4752it [29:05,  3.02s/it, bound:314 nc: 36 ncall:1.2e+05 eff:4.0% logz=-1776.46+/-0.17 dlogz:1.512>0.1]"
     ]
    },
    {
     "name": "stderr",
     "output_type": "stream",
     "text": [
      "22:25 bilby INFO    : Written checkpoint file H0_GWTC-3_PBH-bpower-2nd_flatLCDM_4//dynesty_resume.pickle\n",
      "22:25 bilby INFO    : Writing 304 current samples to H0_GWTC-3_PBH-bpower-2nd_flatLCDM_4//dynesty_samples.dat\n",
      "/home/czc/opt/miniconda3/envs/icarogw/lib/python3.9/site-packages/dynesty/plotting.py:245: UserWarning: Attempting to set identical bottom == top == 0.0 results in singular transformations; automatically expanding.\n",
      "  axes[i].set_ylim([ymin, ymax])\n"
     ]
    },
    {
     "name": "stdout",
     "output_type": "stream",
     "text": [
      "4780it [30:10,  2.76s/it, bound:318 nc: 69 ncall:1.2e+05 eff:4.0% logz=-1776.43+/-0.17 dlogz:1.448>0.1]"
     ]
    },
    {
     "name": "stderr",
     "output_type": "stream",
     "text": [
      "22:26 bilby INFO    : Written checkpoint file H0_GWTC-3_PBH-bpower-2nd_flatLCDM_4//dynesty_resume.pickle\n",
      "22:26 bilby INFO    : Writing 305 current samples to H0_GWTC-3_PBH-bpower-2nd_flatLCDM_4//dynesty_samples.dat\n",
      "/home/czc/opt/miniconda3/envs/icarogw/lib/python3.9/site-packages/dynesty/plotting.py:245: UserWarning: Attempting to set identical bottom == top == 0.0 results in singular transformations; automatically expanding.\n",
      "  axes[i].set_ylim([ymin, ymax])\n"
     ]
    },
    {
     "name": "stdout",
     "output_type": "stream",
     "text": [
      "4802it [31:16,  2.96s/it, bound:321 nc: 47 ncall:1.2e+05 eff:4.0% logz=-1776.41+/-0.17 dlogz:1.399>0.1]"
     ]
    },
    {
     "name": "stderr",
     "output_type": "stream",
     "text": [
      "22:27 bilby INFO    : Written checkpoint file H0_GWTC-3_PBH-bpower-2nd_flatLCDM_4//dynesty_resume.pickle\n",
      "22:27 bilby INFO    : Writing 340 current samples to H0_GWTC-3_PBH-bpower-2nd_flatLCDM_4//dynesty_samples.dat\n",
      "/home/czc/opt/miniconda3/envs/icarogw/lib/python3.9/site-packages/dynesty/plotting.py:245: UserWarning: Attempting to set identical bottom == top == 0.0 results in singular transformations; automatically expanding.\n",
      "  axes[i].set_ylim([ymin, ymax])\n"
     ]
    },
    {
     "name": "stdout",
     "output_type": "stream",
     "text": [
      "4824it [32:25,  3.13s/it, bound:324 nc: 40 ncall:1.2e+05 eff:3.9% logz=-1776.39+/-0.17 dlogz:1.351>0.1]"
     ]
    },
    {
     "name": "stderr",
     "output_type": "stream",
     "text": [
      "22:28 bilby INFO    : Written checkpoint file H0_GWTC-3_PBH-bpower-2nd_flatLCDM_4//dynesty_resume.pickle\n",
      "22:28 bilby INFO    : Writing 345 current samples to H0_GWTC-3_PBH-bpower-2nd_flatLCDM_4//dynesty_samples.dat\n",
      "/home/czc/opt/miniconda3/envs/icarogw/lib/python3.9/site-packages/dynesty/plotting.py:245: UserWarning: Attempting to set identical bottom == top == 0.0 results in singular transformations; automatically expanding.\n",
      "  axes[i].set_ylim([ymin, ymax])\n"
     ]
    },
    {
     "name": "stdout",
     "output_type": "stream",
     "text": [
      "4855it [33:35,  2.67s/it, bound:328 nc: 39 ncall:1.2e+05 eff:3.9% logz=-1776.36+/-0.17 dlogz:1.286>0.1]"
     ]
    },
    {
     "name": "stderr",
     "output_type": "stream",
     "text": [
      "22:30 bilby INFO    : Written checkpoint file H0_GWTC-3_PBH-bpower-2nd_flatLCDM_4//dynesty_resume.pickle\n",
      "22:30 bilby INFO    : Writing 374 current samples to H0_GWTC-3_PBH-bpower-2nd_flatLCDM_4//dynesty_samples.dat\n",
      "/home/czc/opt/miniconda3/envs/icarogw/lib/python3.9/site-packages/dynesty/plotting.py:245: UserWarning: Attempting to set identical bottom == top == 0.0 results in singular transformations; automatically expanding.\n",
      "  axes[i].set_ylim([ymin, ymax])\n"
     ]
    },
    {
     "name": "stdout",
     "output_type": "stream",
     "text": [
      "4887it [34:44,  2.76s/it, bound:332 nc: 36 ncall:1.2e+05 eff:3.9% logz=-1776.34+/-0.17 dlogz:1.222>0.1]"
     ]
    },
    {
     "name": "stderr",
     "output_type": "stream",
     "text": [
      "22:31 bilby INFO    : Written checkpoint file H0_GWTC-3_PBH-bpower-2nd_flatLCDM_4//dynesty_resume.pickle\n",
      "22:31 bilby INFO    : Writing 386 current samples to H0_GWTC-3_PBH-bpower-2nd_flatLCDM_4//dynesty_samples.dat\n",
      "/home/czc/opt/miniconda3/envs/icarogw/lib/python3.9/site-packages/dynesty/plotting.py:245: UserWarning: Attempting to set identical bottom == top == 0.0 results in singular transformations; automatically expanding.\n",
      "  axes[i].set_ylim([ymin, ymax])\n"
     ]
    },
    {
     "name": "stdout",
     "output_type": "stream",
     "text": [
      "4919it [35:53,  2.74s/it, bound:335 nc: 37 ncall:1.3e+05 eff:3.9% logz=-1776.31+/-0.17 dlogz:1.160>0.1]"
     ]
    },
    {
     "name": "stderr",
     "output_type": "stream",
     "text": [
      "22:32 bilby INFO    : Written checkpoint file H0_GWTC-3_PBH-bpower-2nd_flatLCDM_4//dynesty_resume.pickle\n",
      "22:32 bilby INFO    : Writing 456 current samples to H0_GWTC-3_PBH-bpower-2nd_flatLCDM_4//dynesty_samples.dat\n",
      "/home/czc/opt/miniconda3/envs/icarogw/lib/python3.9/site-packages/dynesty/plotting.py:245: UserWarning: Attempting to set identical bottom == top == 0.0 results in singular transformations; automatically expanding.\n",
      "  axes[i].set_ylim([ymin, ymax])\n"
     ]
    },
    {
     "name": "stdout",
     "output_type": "stream",
     "text": [
      "4948it [37:02,  2.80s/it, bound:339 nc: 39 ncall:1.3e+05 eff:3.9% logz=-1776.29+/-0.17 dlogz:1.106>0.1]"
     ]
    },
    {
     "name": "stderr",
     "output_type": "stream",
     "text": [
      "22:33 bilby INFO    : Written checkpoint file H0_GWTC-3_PBH-bpower-2nd_flatLCDM_4//dynesty_resume.pickle\n",
      "22:33 bilby INFO    : Writing 450 current samples to H0_GWTC-3_PBH-bpower-2nd_flatLCDM_4//dynesty_samples.dat\n",
      "/home/czc/opt/miniconda3/envs/icarogw/lib/python3.9/site-packages/dynesty/plotting.py:245: UserWarning: Attempting to set identical bottom == top == 0.0 results in singular transformations; automatically expanding.\n",
      "  axes[i].set_ylim([ymin, ymax])\n"
     ]
    },
    {
     "name": "stdout",
     "output_type": "stream",
     "text": [
      "4978it [38:07,  2.65s/it, bound:343 nc: 29 ncall:1.3e+05 eff:3.9% logz=-1776.27+/-0.17 dlogz:1.052>0.1]"
     ]
    },
    {
     "name": "stderr",
     "output_type": "stream",
     "text": [
      "22:34 bilby INFO    : Written checkpoint file H0_GWTC-3_PBH-bpower-2nd_flatLCDM_4//dynesty_resume.pickle\n",
      "22:34 bilby INFO    : Writing 502 current samples to H0_GWTC-3_PBH-bpower-2nd_flatLCDM_4//dynesty_samples.dat\n",
      "/home/czc/opt/miniconda3/envs/icarogw/lib/python3.9/site-packages/dynesty/plotting.py:245: UserWarning: Attempting to set identical bottom == top == 0.0 results in singular transformations; automatically expanding.\n",
      "  axes[i].set_ylim([ymin, ymax])\n"
     ]
    },
    {
     "name": "stdout",
     "output_type": "stream",
     "text": [
      "5002it [39:16,  2.91s/it, bound:346 nc: 69 ncall:1.3e+05 eff:3.9% logz=-1776.25+/-0.17 dlogz:1.010>0.1]"
     ]
    },
    {
     "name": "stderr",
     "output_type": "stream",
     "text": [
      "22:35 bilby INFO    : Written checkpoint file H0_GWTC-3_PBH-bpower-2nd_flatLCDM_4//dynesty_resume.pickle\n",
      "22:35 bilby INFO    : Writing 477 current samples to H0_GWTC-3_PBH-bpower-2nd_flatLCDM_4//dynesty_samples.dat\n",
      "/home/czc/opt/miniconda3/envs/icarogw/lib/python3.9/site-packages/dynesty/plotting.py:245: UserWarning: Attempting to set identical bottom == top == 0.0 results in singular transformations; automatically expanding.\n",
      "  axes[i].set_ylim([ymin, ymax])\n"
     ]
    },
    {
     "name": "stdout",
     "output_type": "stream",
     "text": [
      "5033it [40:26,  2.62s/it, bound:350 nc: 38 ncall:1.3e+05 eff:3.8% logz=-1776.23+/-0.17 dlogz:0.958>0.1]"
     ]
    },
    {
     "name": "stderr",
     "output_type": "stream",
     "text": [
      "22:36 bilby INFO    : Written checkpoint file H0_GWTC-3_PBH-bpower-2nd_flatLCDM_4//dynesty_resume.pickle\n",
      "22:36 bilby INFO    : Writing 508 current samples to H0_GWTC-3_PBH-bpower-2nd_flatLCDM_4//dynesty_samples.dat\n",
      "/home/czc/opt/miniconda3/envs/icarogw/lib/python3.9/site-packages/dynesty/plotting.py:245: UserWarning: Attempting to set identical bottom == top == 0.0 results in singular transformations; automatically expanding.\n",
      "  axes[i].set_ylim([ymin, ymax])\n"
     ]
    },
    {
     "name": "stdout",
     "output_type": "stream",
     "text": [
      "5064it [41:33,  2.40s/it, bound:354 nc: 40 ncall:1.3e+05 eff:3.8% logz=-1776.21+/-0.17 dlogz:0.908>0.1]"
     ]
    },
    {
     "name": "stderr",
     "output_type": "stream",
     "text": [
      "22:38 bilby INFO    : Written checkpoint file H0_GWTC-3_PBH-bpower-2nd_flatLCDM_4//dynesty_resume.pickle\n",
      "22:38 bilby INFO    : Writing 576 current samples to H0_GWTC-3_PBH-bpower-2nd_flatLCDM_4//dynesty_samples.dat\n",
      "/home/czc/opt/miniconda3/envs/icarogw/lib/python3.9/site-packages/dynesty/plotting.py:245: UserWarning: Attempting to set identical bottom == top == 0.0 results in singular transformations; automatically expanding.\n",
      "  axes[i].set_ylim([ymin, ymax])\n"
     ]
    },
    {
     "name": "stdout",
     "output_type": "stream",
     "text": [
      "5090it [42:36,  2.77s/it, bound:357 nc: 37 ncall:1.3e+05 eff:3.8% logz=-1776.19+/-0.17 dlogz:0.868>0.1]"
     ]
    },
    {
     "name": "stderr",
     "output_type": "stream",
     "text": [
      "22:39 bilby INFO    : Written checkpoint file H0_GWTC-3_PBH-bpower-2nd_flatLCDM_4//dynesty_resume.pickle\n",
      "22:39 bilby INFO    : Writing 612 current samples to H0_GWTC-3_PBH-bpower-2nd_flatLCDM_4//dynesty_samples.dat\n",
      "/home/czc/opt/miniconda3/envs/icarogw/lib/python3.9/site-packages/dynesty/plotting.py:245: UserWarning: Attempting to set identical bottom == top == 0.0 results in singular transformations; automatically expanding.\n",
      "  axes[i].set_ylim([ymin, ymax])\n"
     ]
    },
    {
     "name": "stdout",
     "output_type": "stream",
     "text": [
      "5118it [43:46,  3.06s/it, bound:360 nc: 38 ncall:1.3e+05 eff:3.8% logz=-1776.18+/-0.17 dlogz:0.826>0.1]"
     ]
    },
    {
     "name": "stderr",
     "output_type": "stream",
     "text": [
      "22:40 bilby INFO    : Written checkpoint file H0_GWTC-3_PBH-bpower-2nd_flatLCDM_4//dynesty_resume.pickle\n",
      "22:40 bilby INFO    : Writing 638 current samples to H0_GWTC-3_PBH-bpower-2nd_flatLCDM_4//dynesty_samples.dat\n",
      "/home/czc/opt/miniconda3/envs/icarogw/lib/python3.9/site-packages/dynesty/plotting.py:245: UserWarning: Attempting to set identical bottom == top == 0.0 results in singular transformations; automatically expanding.\n",
      "  axes[i].set_ylim([ymin, ymax])\n"
     ]
    },
    {
     "name": "stdout",
     "output_type": "stream",
     "text": [
      "5149it [44:56,  2.95s/it, bound:364 nc: 36 ncall:1.4e+05 eff:3.8% logz=-1776.16+/-0.17 dlogz:0.782>0.1]"
     ]
    },
    {
     "name": "stderr",
     "output_type": "stream",
     "text": [
      "22:41 bilby INFO    : Written checkpoint file H0_GWTC-3_PBH-bpower-2nd_flatLCDM_4//dynesty_resume.pickle\n",
      "22:41 bilby INFO    : Writing 651 current samples to H0_GWTC-3_PBH-bpower-2nd_flatLCDM_4//dynesty_samples.dat\n",
      "/home/czc/opt/miniconda3/envs/icarogw/lib/python3.9/site-packages/dynesty/plotting.py:245: UserWarning: Attempting to set identical bottom == top == 0.0 results in singular transformations; automatically expanding.\n",
      "  axes[i].set_ylim([ymin, ymax])\n"
     ]
    },
    {
     "name": "stdout",
     "output_type": "stream",
     "text": [
      "5179it [46:08,  2.92s/it, bound:368 nc: 40 ncall:1.4e+05 eff:3.8% logz=-1776.14+/-0.17 dlogz:0.741>0.1]"
     ]
    },
    {
     "name": "stderr",
     "output_type": "stream",
     "text": [
      "22:42 bilby INFO    : Written checkpoint file H0_GWTC-3_PBH-bpower-2nd_flatLCDM_4//dynesty_resume.pickle\n",
      "22:42 bilby INFO    : Writing 686 current samples to H0_GWTC-3_PBH-bpower-2nd_flatLCDM_4//dynesty_samples.dat\n",
      "/home/czc/opt/miniconda3/envs/icarogw/lib/python3.9/site-packages/dynesty/plotting.py:245: UserWarning: Attempting to set identical bottom == top == 0.0 results in singular transformations; automatically expanding.\n",
      "  axes[i].set_ylim([ymin, ymax])\n"
     ]
    },
    {
     "name": "stdout",
     "output_type": "stream",
     "text": [
      "5210it [47:18,  2.75s/it, bound:372 nc: 40 ncall:1.4e+05 eff:3.8% logz=-1776.12+/-0.17 dlogz:0.700>0.1]"
     ]
    },
    {
     "name": "stderr",
     "output_type": "stream",
     "text": [
      "22:43 bilby INFO    : Written checkpoint file H0_GWTC-3_PBH-bpower-2nd_flatLCDM_4//dynesty_resume.pickle\n",
      "22:43 bilby INFO    : Writing 701 current samples to H0_GWTC-3_PBH-bpower-2nd_flatLCDM_4//dynesty_samples.dat\n",
      "/home/czc/opt/miniconda3/envs/icarogw/lib/python3.9/site-packages/dynesty/plotting.py:245: UserWarning: Attempting to set identical bottom == top == 0.0 results in singular transformations; automatically expanding.\n",
      "  axes[i].set_ylim([ymin, ymax])\n"
     ]
    },
    {
     "name": "stdout",
     "output_type": "stream",
     "text": [
      "5239it [48:27,  2.66s/it, bound:376 nc: 35 ncall:1.4e+05 eff:3.8% logz=-1776.11+/-0.17 dlogz:0.664>0.1]"
     ]
    },
    {
     "name": "stderr",
     "output_type": "stream",
     "text": [
      "22:44 bilby INFO    : Written checkpoint file H0_GWTC-3_PBH-bpower-2nd_flatLCDM_4//dynesty_resume.pickle\n",
      "22:44 bilby INFO    : Writing 753 current samples to H0_GWTC-3_PBH-bpower-2nd_flatLCDM_4//dynesty_samples.dat\n",
      "/home/czc/opt/miniconda3/envs/icarogw/lib/python3.9/site-packages/dynesty/plotting.py:245: UserWarning: Attempting to set identical bottom == top == 0.0 results in singular transformations; automatically expanding.\n",
      "  axes[i].set_ylim([ymin, ymax])\n"
     ]
    },
    {
     "name": "stdout",
     "output_type": "stream",
     "text": [
      "5269it [49:37,  2.49s/it, bound:380 nc:116 ncall:1.4e+05 eff:3.8% logz=-1776.09+/-0.17 dlogz:0.629>0.1]"
     ]
    },
    {
     "name": "stderr",
     "output_type": "stream",
     "text": [
      "22:46 bilby INFO    : Written checkpoint file H0_GWTC-3_PBH-bpower-2nd_flatLCDM_4//dynesty_resume.pickle\n",
      "22:46 bilby INFO    : Writing 845 current samples to H0_GWTC-3_PBH-bpower-2nd_flatLCDM_4//dynesty_samples.dat\n",
      "/home/czc/opt/miniconda3/envs/icarogw/lib/python3.9/site-packages/dynesty/plotting.py:245: UserWarning: Attempting to set identical bottom == top == 0.0 results in singular transformations; automatically expanding.\n",
      "  axes[i].set_ylim([ymin, ymax])\n"
     ]
    },
    {
     "name": "stdout",
     "output_type": "stream",
     "text": [
      "5297it [50:41,  2.67s/it, bound:384 nc: 34 ncall:1.4e+05 eff:3.7% logz=-1776.08+/-0.17 dlogz:0.597>0.1]"
     ]
    },
    {
     "name": "stderr",
     "output_type": "stream",
     "text": [
      "22:47 bilby INFO    : Written checkpoint file H0_GWTC-3_PBH-bpower-2nd_flatLCDM_4//dynesty_resume.pickle\n",
      "22:47 bilby INFO    : Writing 895 current samples to H0_GWTC-3_PBH-bpower-2nd_flatLCDM_4//dynesty_samples.dat\n",
      "/home/czc/opt/miniconda3/envs/icarogw/lib/python3.9/site-packages/dynesty/plotting.py:245: UserWarning: Attempting to set identical bottom == top == 0.0 results in singular transformations; automatically expanding.\n",
      "  axes[i].set_ylim([ymin, ymax])\n"
     ]
    },
    {
     "name": "stdout",
     "output_type": "stream",
     "text": [
      "5325it [51:50,  2.86s/it, bound:387 nc: 33 ncall:1.4e+05 eff:3.7% logz=-1776.07+/-0.17 dlogz:0.566>0.1]"
     ]
    },
    {
     "name": "stderr",
     "output_type": "stream",
     "text": [
      "22:48 bilby INFO    : Written checkpoint file H0_GWTC-3_PBH-bpower-2nd_flatLCDM_4//dynesty_resume.pickle\n",
      "22:48 bilby INFO    : Writing 942 current samples to H0_GWTC-3_PBH-bpower-2nd_flatLCDM_4//dynesty_samples.dat\n",
      "/home/czc/opt/miniconda3/envs/icarogw/lib/python3.9/site-packages/dynesty/plotting.py:245: UserWarning: Attempting to set identical bottom == top == 0.0 results in singular transformations; automatically expanding.\n",
      "  axes[i].set_ylim([ymin, ymax])\n"
     ]
    },
    {
     "name": "stdout",
     "output_type": "stream",
     "text": [
      "5350it [52:56,  3.07s/it, bound:391 nc: 38 ncall:1.4e+05 eff:3.7% logz=-1776.06+/-0.17 dlogz:0.540>0.1]"
     ]
    },
    {
     "name": "stderr",
     "output_type": "stream",
     "text": [
      "22:49 bilby INFO    : Written checkpoint file H0_GWTC-3_PBH-bpower-2nd_flatLCDM_4//dynesty_resume.pickle\n",
      "22:49 bilby INFO    : Writing 1003 current samples to H0_GWTC-3_PBH-bpower-2nd_flatLCDM_4//dynesty_samples.dat\n",
      "/home/czc/opt/miniconda3/envs/icarogw/lib/python3.9/site-packages/dynesty/plotting.py:245: UserWarning: Attempting to set identical bottom == top == 0.0 results in singular transformations; automatically expanding.\n",
      "  axes[i].set_ylim([ymin, ymax])\n"
     ]
    },
    {
     "name": "stdout",
     "output_type": "stream",
     "text": [
      "5378it [54:07,  3.04s/it, bound:394 nc: 71 ncall:1.4e+05 eff:3.7% logz=-1776.04+/-0.17 dlogz:0.512>0.1]"
     ]
    },
    {
     "name": "stderr",
     "output_type": "stream",
     "text": [
      "22:50 bilby INFO    : Written checkpoint file H0_GWTC-3_PBH-bpower-2nd_flatLCDM_4//dynesty_resume.pickle\n",
      "22:50 bilby INFO    : Writing 1068 current samples to H0_GWTC-3_PBH-bpower-2nd_flatLCDM_4//dynesty_samples.dat\n",
      "/home/czc/opt/miniconda3/envs/icarogw/lib/python3.9/site-packages/dynesty/plotting.py:245: UserWarning: Attempting to set identical bottom == top == 0.0 results in singular transformations; automatically expanding.\n",
      "  axes[i].set_ylim([ymin, ymax])\n"
     ]
    },
    {
     "name": "stdout",
     "output_type": "stream",
     "text": [
      "5407it [55:17,  2.88s/it, bound:398 nc: 38 ncall:1.5e+05 eff:3.7% logz=-1776.03+/-0.17 dlogz:0.485>0.1]"
     ]
    },
    {
     "name": "stderr",
     "output_type": "stream",
     "text": [
      "22:51 bilby INFO    : Written checkpoint file H0_GWTC-3_PBH-bpower-2nd_flatLCDM_4//dynesty_resume.pickle\n",
      "22:51 bilby INFO    : Writing 1104 current samples to H0_GWTC-3_PBH-bpower-2nd_flatLCDM_4//dynesty_samples.dat\n",
      "/home/czc/opt/miniconda3/envs/icarogw/lib/python3.9/site-packages/dynesty/plotting.py:245: UserWarning: Attempting to set identical bottom == top == 0.0 results in singular transformations; automatically expanding.\n",
      "  axes[i].set_ylim([ymin, ymax])\n"
     ]
    },
    {
     "name": "stdout",
     "output_type": "stream",
     "text": [
      "5438it [56:27,  2.62s/it, bound:402 nc: 40 ncall:1.5e+05 eff:3.7% logz=-1776.02+/-0.17 dlogz:0.457>0.1]"
     ]
    },
    {
     "name": "stderr",
     "output_type": "stream",
     "text": [
      "22:52 bilby INFO    : Written checkpoint file H0_GWTC-3_PBH-bpower-2nd_flatLCDM_4//dynesty_resume.pickle\n",
      "22:52 bilby INFO    : Writing 1178 current samples to H0_GWTC-3_PBH-bpower-2nd_flatLCDM_4//dynesty_samples.dat\n",
      "/home/czc/opt/miniconda3/envs/icarogw/lib/python3.9/site-packages/dynesty/plotting.py:245: UserWarning: Attempting to set identical bottom == top == 0.0 results in singular transformations; automatically expanding.\n",
      "  axes[i].set_ylim([ymin, ymax])\n"
     ]
    },
    {
     "name": "stdout",
     "output_type": "stream",
     "text": [
      "5468it [57:36,  2.47s/it, bound:405 nc: 35 ncall:1.5e+05 eff:3.7% logz=-1776.01+/-0.17 dlogz:0.431>0.1]"
     ]
    },
    {
     "name": "stderr",
     "output_type": "stream",
     "text": [
      "22:54 bilby INFO    : Written checkpoint file H0_GWTC-3_PBH-bpower-2nd_flatLCDM_4//dynesty_resume.pickle\n",
      "22:54 bilby INFO    : Writing 1246 current samples to H0_GWTC-3_PBH-bpower-2nd_flatLCDM_4//dynesty_samples.dat\n",
      "/home/czc/opt/miniconda3/envs/icarogw/lib/python3.9/site-packages/dynesty/plotting.py:245: UserWarning: Attempting to set identical bottom == top == 0.0 results in singular transformations; automatically expanding.\n",
      "  axes[i].set_ylim([ymin, ymax])\n"
     ]
    },
    {
     "name": "stdout",
     "output_type": "stream",
     "text": [
      "5497it [58:45,  2.75s/it, bound:409 nc: 33 ncall:1.5e+05 eff:3.7% logz=-1776.00+/-0.17 dlogz:0.408>0.1]"
     ]
    },
    {
     "name": "stderr",
     "output_type": "stream",
     "text": [
      "22:55 bilby INFO    : Written checkpoint file H0_GWTC-3_PBH-bpower-2nd_flatLCDM_4//dynesty_resume.pickle\n",
      "22:55 bilby INFO    : Writing 1336 current samples to H0_GWTC-3_PBH-bpower-2nd_flatLCDM_4//dynesty_samples.dat\n",
      "/home/czc/opt/miniconda3/envs/icarogw/lib/python3.9/site-packages/dynesty/plotting.py:245: UserWarning: Attempting to set identical bottom == top == 0.0 results in singular transformations; automatically expanding.\n",
      "  axes[i].set_ylim([ymin, ymax])\n"
     ]
    },
    {
     "name": "stdout",
     "output_type": "stream",
     "text": [
      "5527it [59:56,  2.85s/it, bound:413 nc: 40 ncall:1.5e+05 eff:3.7% logz=-1775.99+/-0.17 dlogz:0.385>0.1]"
     ]
    },
    {
     "name": "stderr",
     "output_type": "stream",
     "text": [
      "22:56 bilby INFO    : Written checkpoint file H0_GWTC-3_PBH-bpower-2nd_flatLCDM_4//dynesty_resume.pickle\n",
      "22:56 bilby INFO    : Writing 1419 current samples to H0_GWTC-3_PBH-bpower-2nd_flatLCDM_4//dynesty_samples.dat\n",
      "/home/czc/opt/miniconda3/envs/icarogw/lib/python3.9/site-packages/dynesty/plotting.py:245: UserWarning: Attempting to set identical bottom == top == 0.0 results in singular transformations; automatically expanding.\n",
      "  axes[i].set_ylim([ymin, ymax])\n"
     ]
    },
    {
     "name": "stdout",
     "output_type": "stream",
     "text": [
      "5557it [1:01:06,  2.79s/it, bound:417 nc: 33 ncall:1.5e+05 eff:3.7% logz=-1775.98+/-0.17 dlogz:0.363>0.1]"
     ]
    },
    {
     "name": "stderr",
     "output_type": "stream",
     "text": [
      "22:57 bilby INFO    : Written checkpoint file H0_GWTC-3_PBH-bpower-2nd_flatLCDM_4//dynesty_resume.pickle\n",
      "22:57 bilby INFO    : Writing 1491 current samples to H0_GWTC-3_PBH-bpower-2nd_flatLCDM_4//dynesty_samples.dat\n",
      "/home/czc/opt/miniconda3/envs/icarogw/lib/python3.9/site-packages/dynesty/plotting.py:245: UserWarning: Attempting to set identical bottom == top == 0.0 results in singular transformations; automatically expanding.\n",
      "  axes[i].set_ylim([ymin, ymax])\n"
     ]
    },
    {
     "name": "stdout",
     "output_type": "stream",
     "text": [
      "5588it [1:02:14,  2.62s/it, bound:421 nc: 35 ncall:1.5e+05 eff:3.6% logz=-1775.97+/-0.17 dlogz:0.341>0.1]"
     ]
    },
    {
     "name": "stderr",
     "output_type": "stream",
     "text": [
      "22:58 bilby INFO    : Written checkpoint file H0_GWTC-3_PBH-bpower-2nd_flatLCDM_4//dynesty_resume.pickle\n",
      "22:58 bilby INFO    : Writing 1552 current samples to H0_GWTC-3_PBH-bpower-2nd_flatLCDM_4//dynesty_samples.dat\n",
      "/home/czc/opt/miniconda3/envs/icarogw/lib/python3.9/site-packages/dynesty/plotting.py:245: UserWarning: Attempting to set identical bottom == top == 0.0 results in singular transformations; automatically expanding.\n",
      "  axes[i].set_ylim([ymin, ymax])\n"
     ]
    },
    {
     "name": "stdout",
     "output_type": "stream",
     "text": [
      "5620it [1:03:25,  2.47s/it, bound:424 nc: 75 ncall:1.5e+05 eff:3.6% logz=-1775.95+/-0.17 dlogz:0.320>0.1]"
     ]
    },
    {
     "name": "stderr",
     "output_type": "stream",
     "text": [
      "22:59 bilby INFO    : Written checkpoint file H0_GWTC-3_PBH-bpower-2nd_flatLCDM_4//dynesty_resume.pickle\n",
      "22:59 bilby INFO    : Writing 1635 current samples to H0_GWTC-3_PBH-bpower-2nd_flatLCDM_4//dynesty_samples.dat\n",
      "/home/czc/opt/miniconda3/envs/icarogw/lib/python3.9/site-packages/dynesty/plotting.py:245: UserWarning: Attempting to set identical bottom == top == 0.0 results in singular transformations; automatically expanding.\n",
      "  axes[i].set_ylim([ymin, ymax])\n"
     ]
    },
    {
     "name": "stdout",
     "output_type": "stream",
     "text": [
      "5649it [1:04:35,  2.46s/it, bound:428 nc: 40 ncall:1.6e+05 eff:3.6% logz=-1775.95+/-0.17 dlogz:0.303>0.1]"
     ]
    },
    {
     "name": "stderr",
     "output_type": "stream",
     "text": [
      "23:01 bilby INFO    : Written checkpoint file H0_GWTC-3_PBH-bpower-2nd_flatLCDM_4//dynesty_resume.pickle\n",
      "23:01 bilby INFO    : Writing 1813 current samples to H0_GWTC-3_PBH-bpower-2nd_flatLCDM_4//dynesty_samples.dat\n",
      "/home/czc/opt/miniconda3/envs/icarogw/lib/python3.9/site-packages/dynesty/plotting.py:245: UserWarning: Attempting to set identical bottom == top == 0.0 results in singular transformations; automatically expanding.\n",
      "  axes[i].set_ylim([ymin, ymax])\n"
     ]
    },
    {
     "name": "stdout",
     "output_type": "stream",
     "text": [
      "5680it [1:05:45,  2.68s/it, bound:432 nc: 80 ncall:1.6e+05 eff:3.6% logz=-1775.94+/-0.17 dlogz:0.285>0.1]"
     ]
    },
    {
     "name": "stderr",
     "output_type": "stream",
     "text": [
      "23:02 bilby INFO    : Written checkpoint file H0_GWTC-3_PBH-bpower-2nd_flatLCDM_4//dynesty_resume.pickle\n",
      "23:02 bilby INFO    : Writing 1880 current samples to H0_GWTC-3_PBH-bpower-2nd_flatLCDM_4//dynesty_samples.dat\n",
      "/home/czc/opt/miniconda3/envs/icarogw/lib/python3.9/site-packages/dynesty/plotting.py:245: UserWarning: Attempting to set identical bottom == top == 0.0 results in singular transformations; automatically expanding.\n",
      "  axes[i].set_ylim([ymin, ymax])\n"
     ]
    },
    {
     "name": "stdout",
     "output_type": "stream",
     "text": [
      "5712it [1:06:56,  2.68s/it, bound:436 nc: 40 ncall:1.6e+05 eff:3.6% logz=-1775.93+/-0.17 dlogz:0.267>0.1]"
     ]
    },
    {
     "name": "stderr",
     "output_type": "stream",
     "text": [
      "23:03 bilby INFO    : Written checkpoint file H0_GWTC-3_PBH-bpower-2nd_flatLCDM_4//dynesty_resume.pickle\n",
      "23:03 bilby INFO    : Writing 1966 current samples to H0_GWTC-3_PBH-bpower-2nd_flatLCDM_4//dynesty_samples.dat\n",
      "/home/czc/opt/miniconda3/envs/icarogw/lib/python3.9/site-packages/dynesty/plotting.py:245: UserWarning: Attempting to set identical bottom == top == 0.0 results in singular transformations; automatically expanding.\n",
      "  axes[i].set_ylim([ymin, ymax])\n"
     ]
    },
    {
     "name": "stdout",
     "output_type": "stream",
     "text": [
      "5741it [1:08:07,  2.73s/it, bound:440 nc:114 ncall:1.6e+05 eff:3.6% logz=-1775.92+/-0.17 dlogz:0.252>0.1]"
     ]
    },
    {
     "name": "stderr",
     "output_type": "stream",
     "text": [
      "23:04 bilby INFO    : Written checkpoint file H0_GWTC-3_PBH-bpower-2nd_flatLCDM_4//dynesty_resume.pickle\n",
      "23:04 bilby INFO    : Writing 2009 current samples to H0_GWTC-3_PBH-bpower-2nd_flatLCDM_4//dynesty_samples.dat\n",
      "/home/czc/opt/miniconda3/envs/icarogw/lib/python3.9/site-packages/dynesty/plotting.py:245: UserWarning: Attempting to set identical bottom == top == 0.0 results in singular transformations; automatically expanding.\n",
      "  axes[i].set_ylim([ymin, ymax])\n"
     ]
    },
    {
     "name": "stdout",
     "output_type": "stream",
     "text": [
      "5772it [1:09:18,  2.59s/it, bound:444 nc: 40 ncall:1.6e+05 eff:3.6% logz=-1775.91+/-0.17 dlogz:0.237>0.1]"
     ]
    },
    {
     "name": "stderr",
     "output_type": "stream",
     "text": [
      "23:05 bilby INFO    : Written checkpoint file H0_GWTC-3_PBH-bpower-2nd_flatLCDM_4//dynesty_resume.pickle\n",
      "23:05 bilby INFO    : Writing 2030 current samples to H0_GWTC-3_PBH-bpower-2nd_flatLCDM_4//dynesty_samples.dat\n",
      "/home/czc/opt/miniconda3/envs/icarogw/lib/python3.9/site-packages/dynesty/plotting.py:245: UserWarning: Attempting to set identical bottom == top == 0.0 results in singular transformations; automatically expanding.\n",
      "  axes[i].set_ylim([ymin, ymax])\n"
     ]
    },
    {
     "name": "stdout",
     "output_type": "stream",
     "text": [
      "5803it [1:10:30,  2.45s/it, bound:448 nc: 40 ncall:1.6e+05 eff:3.6% logz=-1775.91+/-0.17 dlogz:0.223>0.1]"
     ]
    },
    {
     "name": "stderr",
     "output_type": "stream",
     "text": [
      "23:06 bilby INFO    : Written checkpoint file H0_GWTC-3_PBH-bpower-2nd_flatLCDM_4//dynesty_resume.pickle\n",
      "23:06 bilby INFO    : Writing 2044 current samples to H0_GWTC-3_PBH-bpower-2nd_flatLCDM_4//dynesty_samples.dat\n",
      "/home/czc/opt/miniconda3/envs/icarogw/lib/python3.9/site-packages/dynesty/plotting.py:245: UserWarning: Attempting to set identical bottom == top == 0.0 results in singular transformations; automatically expanding.\n",
      "  axes[i].set_ylim([ymin, ymax])\n"
     ]
    },
    {
     "name": "stdout",
     "output_type": "stream",
     "text": [
      "5833it [1:11:42,  2.72s/it, bound:452 nc: 40 ncall:1.6e+05 eff:3.6% logz=-1775.90+/-0.17 dlogz:0.211>0.1]"
     ]
    },
    {
     "name": "stderr",
     "output_type": "stream",
     "text": [
      "23:08 bilby INFO    : Written checkpoint file H0_GWTC-3_PBH-bpower-2nd_flatLCDM_4//dynesty_resume.pickle\n",
      "23:08 bilby INFO    : Writing 2012 current samples to H0_GWTC-3_PBH-bpower-2nd_flatLCDM_4//dynesty_samples.dat\n",
      "/home/czc/opt/miniconda3/envs/icarogw/lib/python3.9/site-packages/dynesty/plotting.py:245: UserWarning: Attempting to set identical bottom == top == 0.0 results in singular transformations; automatically expanding.\n",
      "  axes[i].set_ylim([ymin, ymax])\n"
     ]
    },
    {
     "name": "stdout",
     "output_type": "stream",
     "text": [
      "5863it [1:12:54,  2.75s/it, bound:456 nc: 40 ncall:1.6e+05 eff:3.6% logz=-1775.89+/-0.17 dlogz:0.199>0.1]"
     ]
    },
    {
     "name": "stderr",
     "output_type": "stream",
     "text": [
      "23:09 bilby INFO    : Written checkpoint file H0_GWTC-3_PBH-bpower-2nd_flatLCDM_4//dynesty_resume.pickle\n",
      "23:09 bilby INFO    : Writing 2009 current samples to H0_GWTC-3_PBH-bpower-2nd_flatLCDM_4//dynesty_samples.dat\n",
      "/home/czc/opt/miniconda3/envs/icarogw/lib/python3.9/site-packages/dynesty/plotting.py:245: UserWarning: Attempting to set identical bottom == top == 0.0 results in singular transformations; automatically expanding.\n",
      "  axes[i].set_ylim([ymin, ymax])\n"
     ]
    },
    {
     "name": "stdout",
     "output_type": "stream",
     "text": [
      "5893it [1:14:06,  2.69s/it, bound:460 nc: 40 ncall:1.7e+05 eff:3.6% logz=-1775.89+/-0.17 dlogz:0.187>0.1]"
     ]
    },
    {
     "name": "stderr",
     "output_type": "stream",
     "text": [
      "23:10 bilby INFO    : Written checkpoint file H0_GWTC-3_PBH-bpower-2nd_flatLCDM_4//dynesty_resume.pickle\n",
      "23:10 bilby INFO    : Writing 2025 current samples to H0_GWTC-3_PBH-bpower-2nd_flatLCDM_4//dynesty_samples.dat\n",
      "/home/czc/opt/miniconda3/envs/icarogw/lib/python3.9/site-packages/dynesty/plotting.py:245: UserWarning: Attempting to set identical bottom == top == 0.0 results in singular transformations; automatically expanding.\n",
      "  axes[i].set_ylim([ymin, ymax])\n"
     ]
    },
    {
     "name": "stdout",
     "output_type": "stream",
     "text": [
      "5925it [1:15:19,  2.49s/it, bound:464 nc: 40 ncall:1.7e+05 eff:3.5% logz=-1775.88+/-0.17 dlogz:0.175>0.1]"
     ]
    },
    {
     "name": "stderr",
     "output_type": "stream",
     "text": [
      "23:11 bilby INFO    : Written checkpoint file H0_GWTC-3_PBH-bpower-2nd_flatLCDM_4//dynesty_resume.pickle\n",
      "23:11 bilby INFO    : Writing 2037 current samples to H0_GWTC-3_PBH-bpower-2nd_flatLCDM_4//dynesty_samples.dat\n",
      "/home/czc/opt/miniconda3/envs/icarogw/lib/python3.9/site-packages/dynesty/plotting.py:245: UserWarning: Attempting to set identical bottom == top == 0.0 results in singular transformations; automatically expanding.\n",
      "  axes[i].set_ylim([ymin, ymax])\n"
     ]
    },
    {
     "name": "stdout",
     "output_type": "stream",
     "text": [
      "5956it [1:16:31,  2.73s/it, bound:468 nc: 79 ncall:1.7e+05 eff:3.5% logz=-1775.87+/-0.17 dlogz:0.165>0.1]"
     ]
    },
    {
     "name": "stderr",
     "output_type": "stream",
     "text": [
      "23:13 bilby INFO    : Written checkpoint file H0_GWTC-3_PBH-bpower-2nd_flatLCDM_4//dynesty_resume.pickle\n",
      "23:13 bilby INFO    : Writing 2004 current samples to H0_GWTC-3_PBH-bpower-2nd_flatLCDM_4//dynesty_samples.dat\n",
      "/home/czc/opt/miniconda3/envs/icarogw/lib/python3.9/site-packages/dynesty/plotting.py:245: UserWarning: Attempting to set identical bottom == top == 0.0 results in singular transformations; automatically expanding.\n",
      "  axes[i].set_ylim([ymin, ymax])\n"
     ]
    },
    {
     "name": "stdout",
     "output_type": "stream",
     "text": [
      "5985it [1:17:42,  2.86s/it, bound:472 nc: 76 ncall:1.7e+05 eff:3.5% logz=-1775.87+/-0.17 dlogz:0.156>0.1]"
     ]
    },
    {
     "name": "stderr",
     "output_type": "stream",
     "text": [
      "23:14 bilby INFO    : Written checkpoint file H0_GWTC-3_PBH-bpower-2nd_flatLCDM_4//dynesty_resume.pickle\n",
      "23:14 bilby INFO    : Writing 2017 current samples to H0_GWTC-3_PBH-bpower-2nd_flatLCDM_4//dynesty_samples.dat\n",
      "/home/czc/opt/miniconda3/envs/icarogw/lib/python3.9/site-packages/dynesty/plotting.py:245: UserWarning: Attempting to set identical bottom == top == 0.0 results in singular transformations; automatically expanding.\n",
      "  axes[i].set_ylim([ymin, ymax])\n"
     ]
    },
    {
     "name": "stdout",
     "output_type": "stream",
     "text": [
      "6017it [1:18:54,  2.67s/it, bound:476 nc: 40 ncall:1.7e+05 eff:3.5% logz=-1775.86+/-0.17 dlogz:0.147>0.1]"
     ]
    },
    {
     "name": "stderr",
     "output_type": "stream",
     "text": [
      "23:15 bilby INFO    : Written checkpoint file H0_GWTC-3_PBH-bpower-2nd_flatLCDM_4//dynesty_resume.pickle\n",
      "23:15 bilby INFO    : Writing 2038 current samples to H0_GWTC-3_PBH-bpower-2nd_flatLCDM_4//dynesty_samples.dat\n",
      "/home/czc/opt/miniconda3/envs/icarogw/lib/python3.9/site-packages/dynesty/plotting.py:245: UserWarning: Attempting to set identical bottom == top == 0.0 results in singular transformations; automatically expanding.\n",
      "  axes[i].set_ylim([ymin, ymax])\n"
     ]
    },
    {
     "name": "stdout",
     "output_type": "stream",
     "text": [
      "6048it [1:20:06,  2.52s/it, bound:480 nc: 40 ncall:1.7e+05 eff:3.5% logz=-1775.86+/-0.17 dlogz:0.138>0.1]"
     ]
    },
    {
     "name": "stderr",
     "output_type": "stream",
     "text": [
      "23:16 bilby INFO    : Written checkpoint file H0_GWTC-3_PBH-bpower-2nd_flatLCDM_4//dynesty_resume.pickle\n",
      "23:16 bilby INFO    : Writing 1979 current samples to H0_GWTC-3_PBH-bpower-2nd_flatLCDM_4//dynesty_samples.dat\n",
      "/home/czc/opt/miniconda3/envs/icarogw/lib/python3.9/site-packages/dynesty/plotting.py:245: UserWarning: Attempting to set identical bottom == top == 0.0 results in singular transformations; automatically expanding.\n",
      "  axes[i].set_ylim([ymin, ymax])\n"
     ]
    },
    {
     "name": "stdout",
     "output_type": "stream",
     "text": [
      "6079it [1:21:17,  2.75s/it, bound:484 nc: 40 ncall:1.7e+05 eff:3.5% logz=-1775.85+/-0.17 dlogz:0.130>0.1]"
     ]
    },
    {
     "name": "stderr",
     "output_type": "stream",
     "text": [
      "23:17 bilby INFO    : Written checkpoint file H0_GWTC-3_PBH-bpower-2nd_flatLCDM_4//dynesty_resume.pickle\n",
      "23:17 bilby INFO    : Writing 1984 current samples to H0_GWTC-3_PBH-bpower-2nd_flatLCDM_4//dynesty_samples.dat\n",
      "/home/czc/opt/miniconda3/envs/icarogw/lib/python3.9/site-packages/dynesty/plotting.py:245: UserWarning: Attempting to set identical bottom == top == 0.0 results in singular transformations; automatically expanding.\n",
      "  axes[i].set_ylim([ymin, ymax])\n"
     ]
    },
    {
     "name": "stdout",
     "output_type": "stream",
     "text": [
      "6110it [1:22:28,  2.77s/it, bound:488 nc: 40 ncall:1.7e+05 eff:3.5% logz=-1775.85+/-0.17 dlogz:0.122>0.1]"
     ]
    },
    {
     "name": "stderr",
     "output_type": "stream",
     "text": [
      "23:18 bilby INFO    : Written checkpoint file H0_GWTC-3_PBH-bpower-2nd_flatLCDM_4//dynesty_resume.pickle\n",
      "23:18 bilby INFO    : Writing 2058 current samples to H0_GWTC-3_PBH-bpower-2nd_flatLCDM_4//dynesty_samples.dat\n",
      "/home/czc/opt/miniconda3/envs/icarogw/lib/python3.9/site-packages/dynesty/plotting.py:245: UserWarning: Attempting to set identical bottom == top == 0.0 results in singular transformations; automatically expanding.\n",
      "  axes[i].set_ylim([ymin, ymax])\n"
     ]
    },
    {
     "name": "stdout",
     "output_type": "stream",
     "text": [
      "6140it [1:23:39,  2.75s/it, bound:492 nc: 80 ncall:1.8e+05 eff:3.5% logz=-1775.85+/-0.17 dlogz:0.115>0.1]"
     ]
    },
    {
     "name": "stderr",
     "output_type": "stream",
     "text": [
      "23:20 bilby INFO    : Written checkpoint file H0_GWTC-3_PBH-bpower-2nd_flatLCDM_4//dynesty_resume.pickle\n",
      "23:20 bilby INFO    : Writing 2024 current samples to H0_GWTC-3_PBH-bpower-2nd_flatLCDM_4//dynesty_samples.dat\n",
      "/home/czc/opt/miniconda3/envs/icarogw/lib/python3.9/site-packages/dynesty/plotting.py:245: UserWarning: Attempting to set identical bottom == top == 0.0 results in singular transformations; automatically expanding.\n",
      "  axes[i].set_ylim([ymin, ymax])\n"
     ]
    },
    {
     "name": "stdout",
     "output_type": "stream",
     "text": [
      "6171it [1:24:51,  2.60s/it, bound:496 nc: 40 ncall:1.8e+05 eff:3.5% logz=-1775.84+/-0.17 dlogz:0.108>0.1]"
     ]
    },
    {
     "name": "stderr",
     "output_type": "stream",
     "text": [
      "23:21 bilby INFO    : Written checkpoint file H0_GWTC-3_PBH-bpower-2nd_flatLCDM_4//dynesty_resume.pickle\n",
      "23:21 bilby INFO    : Writing 2003 current samples to H0_GWTC-3_PBH-bpower-2nd_flatLCDM_4//dynesty_samples.dat\n",
      "/home/czc/opt/miniconda3/envs/icarogw/lib/python3.9/site-packages/dynesty/plotting.py:245: UserWarning: Attempting to set identical bottom == top == 0.0 results in singular transformations; automatically expanding.\n",
      "  axes[i].set_ylim([ymin, ymax])\n"
     ]
    },
    {
     "name": "stdout",
     "output_type": "stream",
     "text": [
      "6203it [1:26:03,  2.43s/it, bound:500 nc: 40 ncall:1.8e+05 eff:3.5% logz=-1775.84+/-0.17 dlogz:0.101>0.1]"
     ]
    },
    {
     "name": "stderr",
     "output_type": "stream",
     "text": [
      "23:22 bilby INFO    : Written checkpoint file H0_GWTC-3_PBH-bpower-2nd_flatLCDM_4//dynesty_resume.pickle\n",
      "23:22 bilby INFO    : Writing 1995 current samples to H0_GWTC-3_PBH-bpower-2nd_flatLCDM_4//dynesty_samples.dat\n",
      "/home/czc/opt/miniconda3/envs/icarogw/lib/python3.9/site-packages/dynesty/plotting.py:245: UserWarning: Attempting to set identical bottom == top == 0.0 results in singular transformations; automatically expanding.\n",
      "  axes[i].set_ylim([ymin, ymax])\n"
     ]
    },
    {
     "name": "stdout",
     "output_type": "stream",
     "text": [
      "6209it [1:26:06,  2.17s/it, bound:501 nc:  1 ncall:1.8e+05 eff:3.5% logz=-1775.84+/-0.17 dlogz:0.100>0.1]"
     ]
    },
    {
     "name": "stderr",
     "output_type": "stream",
     "text": [
      "23:22 bilby INFO    : Written checkpoint file H0_GWTC-3_PBH-bpower-2nd_flatLCDM_4//dynesty_resume.pickle\n",
      "23:22 bilby INFO    : Writing 2038 current samples to H0_GWTC-3_PBH-bpower-2nd_flatLCDM_4//dynesty_samples.dat\n",
      "/home/czc/opt/miniconda3/envs/icarogw/lib/python3.9/site-packages/dynesty/plotting.py:245: UserWarning: Attempting to set identical bottom == top == 0.0 results in singular transformations; automatically expanding.\n",
      "  axes[i].set_ylim([ymin, ymax])\n",
      "23:22 bilby INFO    : Starting to close worker pool.\n",
      "23:22 bilby INFO    : Finished closing worker pool.\n"
     ]
    },
    {
     "name": "stdout",
     "output_type": "stream",
     "text": [
      "6209it [1:26:09,  1.20it/s, bound:501 nc:  1 ncall:1.8e+05 eff:3.8% logz=-1775.77+/-0.18 dlogz:0.000>0.1]"
     ]
    },
    {
     "name": "stderr",
     "output_type": "stream",
     "text": [
      "23:22 bilby WARNING : Multiple likelihood matches found between sorted and unsorted samples. Taking the first match.\n"
     ]
    },
    {
     "name": "stdout",
     "output_type": "stream",
     "text": [
      "\n",
      "\n"
     ]
    },
    {
     "name": "stderr",
     "output_type": "stream",
     "text": [
      "23:22 bilby WARNING : Multiple likelihood matches found between sorted and unsorted samples. Taking the first match.\n",
      "23:22 bilby WARNING : Multiple likelihood matches found between sorted and unsorted samples. Taking the first match.\n",
      "23:22 bilby WARNING : Multiple likelihood matches found between sorted and unsorted samples. Taking the first match.\n",
      "23:22 bilby WARNING : Multiple likelihood matches found between sorted and unsorted samples. Taking the first match.\n",
      "23:22 bilby WARNING : Multiple likelihood matches found between sorted and unsorted samples. Taking the first match.\n",
      "23:22 bilby WARNING : Multiple likelihood matches found between sorted and unsorted samples. Taking the first match.\n",
      "23:22 bilby WARNING : Multiple likelihood matches found between sorted and unsorted samples. Taking the first match.\n",
      "23:22 bilby WARNING : Multiple likelihood matches found between sorted and unsorted samples. Taking the first match.\n",
      "23:22 bilby WARNING : Multiple likelihood matches found between sorted and unsorted samples. Taking the first match.\n",
      "23:22 bilby WARNING : Multiple likelihood matches found between sorted and unsorted samples. Taking the first match.\n",
      "23:22 bilby WARNING : Multiple likelihood matches found between sorted and unsorted samples. Taking the first match.\n",
      "23:22 bilby WARNING : Multiple likelihood matches found between sorted and unsorted samples. Taking the first match.\n",
      "23:22 bilby WARNING : Multiple likelihood matches found between sorted and unsorted samples. Taking the first match.\n",
      "23:22 bilby WARNING : Multiple likelihood matches found between sorted and unsorted samples. Taking the first match.\n",
      "23:22 bilby WARNING : Multiple likelihood matches found between sorted and unsorted samples. Taking the first match.\n",
      "23:22 bilby WARNING : Multiple likelihood matches found between sorted and unsorted samples. Taking the first match.\n",
      "23:22 bilby WARNING : Multiple likelihood matches found between sorted and unsorted samples. Taking the first match.\n",
      "23:22 bilby WARNING : Multiple likelihood matches found between sorted and unsorted samples. Taking the first match.\n",
      "23:22 bilby WARNING : Multiple likelihood matches found between sorted and unsorted samples. Taking the first match.\n",
      "23:22 bilby WARNING : Multiple likelihood matches found between sorted and unsorted samples. Taking the first match.\n",
      "23:22 bilby WARNING : Multiple likelihood matches found between sorted and unsorted samples. Taking the first match.\n",
      "23:22 bilby INFO    : Sampling time: 3:00:31.768374\n",
      "23:22 bilby INFO    : Summary of results:\n",
      "nsamples: 6709\n",
      "ln_noise_evidence:    nan\n",
      "ln_evidence: -1775.767 +/-  0.182\n",
      "ln_bayes_factor:    nan +/-  0.182\n",
      "\n"
     ]
    },
    {
     "data": {
      "image/png": "[encoded data removed]",
      "text/plain": [
       "<Figure size 698.4x698.4 with 16 Axes>"
      ]
     },
     "execution_count": 6,
     "metadata": {},
     "output_type": "execute_result"
    }
   ],
   "source": [
    "analysis = hierarchical_analysis2(posterior_dict, injections, fixed_cosmo=True)\n",
    "\n",
    "# Run bilby.  Here we will be using emcee\n",
    "result = analysis.run_bilby(population_model, cosmology_model, prior_dict, nlive=500, nact=2, walks=20,\n",
    "                            outdir=outdir, label='dynesty', npool=32, parallel=2000, check_point_delta_t=60)\n",
    "result.plot_corner()\n"
   ]
  },
  {
   "cell_type": "code",
   "execution_count": 7,
   "metadata": {},
   "outputs": [
    {
     "data": {
      "text/plain": [
       "0.685230500665919"
      ]
     },
     "execution_count": 7,
     "metadata": {},
     "output_type": "execute_result"
    }
   ],
   "source": [
    "import numpy as np\n",
    "np.exp(-1059.681-(-1059.303))"
   ]
  },
  {
   "cell_type": "code",
   "execution_count": 8,
   "metadata": {},
   "outputs": [
    {
     "data": {
      "text/plain": [
       "1.987743349398055"
      ]
     },
     "execution_count": 8,
     "metadata": {},
     "output_type": "execute_result"
    }
   ],
   "source": [
    "import numpy as np\n",
    "np.exp(-1059.681-(-1060.368))"
   ]
  },
  {
   "cell_type": "code",
   "execution_count": 2,
   "metadata": {},
   "outputs": [],
   "source": [
    "import matplotlib.lines as mlines\n",
    "\n",
    "outdir1 = \"H0_GWTC-3_PBH-bpower-1st_flatLCDM_7/\"\n",
    "outdir2 = \"H0_GWTC-3_PBH-bpower-2nd_flatLCDM_4/\"\n",
    "\n",
    "posteriors1 = np.loadtxt(f\"{outdir1}/dynesty_samples.dat\", skiprows=1)\n",
    "posteriors2 = np.loadtxt(f\"{outdir2}/dynesty_samples.dat\", skiprows=1)"
   ]
  },
  {
   "cell_type": "code",
   "execution_count": 40,
   "metadata": {},
   "outputs": [
    {
     "data": {
      "image/png": "[encoded data removed]",
      "text/plain": [
       "<Figure size 698.4x698.4 with 16 Axes>"
      ]
     },
     "metadata": {
      "needs_background": "light"
     },
     "output_type": "display_data"
    }
   ],
   "source": [
    "fig = corner.corner(posteriors1, bins=30, smooth=0.9, color='#0072C1', labels=[r\"$M_*[M_{\\odot}]$\", r\"$\\alpha_1$\", r\"$\\alpha_2$\", r\"$\\log_{10}f_\\mathrm{pbh}$\"],\n",
    "                    levels=(1 - np.exp(-0.5), 1 - np.exp(-2), 1 - np.exp(-9 / 2.)), plot_density=True, plot_datapoints=True, fill_contours=False,\n",
    "                    show_titles=False, title_kwargs={\"fontsize\": 18}, label_kwargs=dict(fontsize=18), range=((3, 13), (0, 15), (1.4, 2.7), (-2.85, -2.45)))\n",
    "\n",
    "corner.corner(posteriors2, bins=30, smooth=0.9, color='#FF7F0E', labels=[r\"$M_*[M_{\\odot}]$\", r\"$\\alpha_1$\", r\"$\\alpha_2$\", r\"$\\log_{10}f_\\mathrm{pbh}$\"],\n",
    "              levels=(1 - np.exp(-0.5), 1 - np.exp(-2), 1 - np.exp(-9 / 2.)), plot_density=True, plot_datapoints=True, fill_contours=False,\n",
    "              show_titles=False, title_kwargs={\"fontsize\": 18}, label_kwargs=dict(fontsize=18), range=((3, 13), (0, 15), (1.4, 2.7), (-2.85, -2.45)), fig=fig)\n",
    "\n",
    "blue_line = mlines.Line2D([], [], color='#0072C1', lw=2, label=r'$\\rm{1st}$')\n",
    "orange_line = mlines.Line2D([], [], color='#FF7F0E', lw=2, label=r'$\\rm{1st+2nd}$')\n",
    "plt.legend(handles=[blue_line, orange_line], bbox_to_anchor=(\n",
    "    1, 3.12), loc='upper right', fontsize=20)  # prop={'size': 8})\n",
    "plt.savefig(\"../latex/post-bpower.pdf\")\n"
   ]
  },
  {
   "cell_type": "code",
   "execution_count": 41,
   "metadata": {},
   "outputs": [],
   "source": [
    "def get_credibles(posts):\n",
    "    x_low, x_median, x_up = np.quantile(posts, [0.05, 0.5, 0.95])\n",
    "    return x_median, (x_up - x_median), (x_median - x_low)"
   ]
  },
  {
   "cell_type": "code",
   "execution_count": 42,
   "metadata": {},
   "outputs": [
    {
     "data": {
      "text/plain": [
       "(8.11295060471427, 1.7415864753949606, 1.5874026902897223)"
      ]
     },
     "execution_count": 42,
     "metadata": {},
     "output_type": "execute_result"
    }
   ],
   "source": [
    "posts = posteriors2[:, 0]\n",
    "get_credibles(posts)"
   ]
  },
  {
   "cell_type": "code",
   "execution_count": 43,
   "metadata": {},
   "outputs": [
    {
     "data": {
      "text/plain": [
       "(7.401382451477139, 48.87712892382534, 4.937278488297503)"
      ]
     },
     "execution_count": 43,
     "metadata": {},
     "output_type": "execute_result"
    }
   ],
   "source": [
    "posts = posteriors2[:, 1]\n",
    "get_credibles(posts)"
   ]
  },
  {
   "cell_type": "code",
   "execution_count": 44,
   "metadata": {},
   "outputs": [
    {
     "data": {
      "text/plain": [
       "(2.0219064761308143, 0.20718472400426036, 0.20061626155141266)"
      ]
     },
     "execution_count": 44,
     "metadata": {},
     "output_type": "execute_result"
    }
   ],
   "source": [
    "posts = posteriors2[:, 2]\n",
    "get_credibles(posts)"
   ]
  },
  {
   "cell_type": "code",
   "execution_count": 45,
   "metadata": {},
   "outputs": [
    {
     "data": {
      "text/plain": [
       "(-2.6527227415874606, 0.0638148323668184, 0.06872565759615235)"
      ]
     },
     "execution_count": 45,
     "metadata": {},
     "output_type": "execute_result"
    }
   ],
   "source": [
    "posts = posteriors2[:, 3]\n",
    "get_credibles(posts)"
   ]
  },
  {
   "cell_type": "code",
   "execution_count": null,
   "metadata": {},
   "outputs": [],
   "source": []
  }
 ],
 "metadata": {
  "kernelspec": {
   "display_name": "icarogw",
   "language": "python",
   "name": "icarogw"
  },
  "language_info": {
   "codemirror_mode": {
    "name": "ipython",
    "version": 3
   },
   "file_extension": ".py",
   "mimetype": "text/x-python",
   "name": "python",
   "nbconvert_exporter": "python",
   "pygments_lexer": "ipython3",
   "version": "3.9.2"
  }
 },
 "nbformat": 4,
 "nbformat_minor": 4
}
