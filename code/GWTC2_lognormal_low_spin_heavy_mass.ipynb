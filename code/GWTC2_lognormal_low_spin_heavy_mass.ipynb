{
 "cells": [
  {
   "cell_type": "code",
   "execution_count": 1,
   "metadata": {},
   "outputs": [],
   "source": [
    "model = \"GWTC2_lognormal_low_spin_heavy_mass\"\n",
    "using Cuba\n",
    "include(\"events.jl\")\n",
    "using Revise\n",
    "using Cuba\n",
    "using HypergeometricFunctions\n",
    "using SpecialFunctions\n",
    "using BenchmarkTools\n",
    "using Interpolations\n",
    "using Distributions\n",
    "using KernelDensity\n",
    "using DelimitedFiles\n",
    "using StatsPlots\n",
    "using NestedSamplers\n",
    "using StatsBase: sample\n",
    "using Random\n",
    "# using MCMCChains\n",
    "using FileIO\n",
    "using BAT\n",
    "using IntervalSets\n",
    "using FileIO\n",
    "using LaTeXStrings\n",
    "using Roots\n",
    "# using GWSC\n",
    "using IntervalSets\n",
    "using AbstractMCMC\n",
    "# AbstractMCMC.setprogress!(false)\n",
    "Random.seed!(8452);"
   ]
  },
  {
   "cell_type": "code",
   "execution_count": 2,
   "metadata": {},
   "outputs": [
    {
     "data": {
      "text/plain": [
       "127"
      ]
     },
     "execution_count": 2,
     "metadata": {},
     "output_type": "execute_result"
    }
   ],
   "source": [
    "f = 0.0025693801260000975\n",
    "mc = 8.896735628637506\n",
    "σc = 0.9108320383237213\n",
    "i = 10\n",
    "j = 30\n",
    "\n",
    "const m_min = 3\n",
    "const m_max = 130\n",
    "const δm = m_max - m_min"
   ]
  },
  {
   "cell_type": "code",
   "execution_count": 3,
   "metadata": {},
   "outputs": [
    {
     "data": {
      "text/plain": [
       "merger_rate (generic function with 1 method)"
      ]
     },
     "execution_count": 3,
     "metadata": {},
     "output_type": "execute_result"
    }
   ],
   "source": [
    "function mergerRateDensity1st(i, j, mc, σc, f)\n",
    "    210084.52488130186/(i^2 * j^2 * σc^2) * exp(-(743*σc^4 + 1369*log(i/mc)^2 + 1369*log(j/mc)^2)/(2738*σc^2)) * (i*j)^(3/37) * (i+j)^(36/37) * ((exp(σc^2/2)*f)/mc)^(53/37) * mc^(53/37)\n",
    "end\n",
    "\n",
    "function mergerRateDensity2nd1(i, j, mc, σc, f)\n",
    "    tmp1 = 1009.5488113544313 * f^(69/37) * i^(6/37) * (i+j)^(72/37) / j^(68/37) / σc^3 \n",
    "    tmp2 = exp(-(-3318*σc^4 + 1369*log(j/mc)^2)/(2738*σc^2))\n",
    "    \n",
    "    int0(e) = exp(-(1369*log(e/mc)^2 + 1369*log((-e+i)/mc)^2)/(2738*σc^2)) / (e^2 * (-e + i)^2)\n",
    "    int(e) = i * int0(i*e)\n",
    "    function integrand(x, f)\n",
    "        f[1] = int(x[1])\n",
    "    end\n",
    "    result, err = cuhre(integrand, rtol=1e-1)\n",
    "    tmp1 * tmp2 * result[1]\n",
    "end\n",
    "\n",
    "mergerRateDensity2nd(i, j, mc, σc, f) = 0.5 * (mergerRateDensity2nd1(i, j, mc, σc, f) + mergerRateDensity2nd1(j, i, mc, σc, f))\n",
    "\n",
    "# function mergerRateDensity(i, j, mc, σc, f)\n",
    "#     if i >= j\n",
    "#         mergerRateDensity1st(i, j, mc, σc, f) + mergerRateDensity2nd(i, j, mc, σc, f)\n",
    "#     else\n",
    "#         mergerRateDensity(j, i, mc, σc, f)\n",
    "#     end\n",
    "# end\n",
    "\n",
    "mergerRateDensity(i, j, mc, σc, f) = mergerRateDensity1st(i, j, mc, σc, f) + mergerRateDensity2nd(i, j, mc, σc, f)\n",
    "\n",
    "function merger_rate(mc, σc, f) \n",
    "    δm = m_max - m_min\n",
    "    int(m1, m2) = δm^2 * mergerRateDensity(m_min + δm*m1, m_min + δm*m2, mc, σc, f) \n",
    "#     println(\"p1=$p10, p2=$p20, p3=$p30\")\n",
    "    function integrand(x, f)\n",
    "        f[1] = int(x[1], x[2])\n",
    "    end\n",
    "    result, err = cuhre(integrand, rtol=1e-3)\n",
    "    0.5*result[1]\n",
    "end"
   ]
  },
  {
   "cell_type": "code",
   "execution_count": 4,
   "metadata": {},
   "outputs": [],
   "source": [
    "# @time mergerRateDensity(i, j, mc, σc, f)\n",
    "# mergerRateDensity1st(i, j, mc, σc, f)\n",
    "# @time merger_rate(mc, σc, f)\n",
    "# mergerRateDensity2nd(i, j, mc, σc, f)\n",
    "# @time mergerRateDensity2nd(i, j, mc, σc, f)\n",
    "# @time mergerRateDensity2nd1(i, j, mc, σc, f)"
   ]
  },
  {
   "cell_type": "code",
   "execution_count": 5,
   "metadata": {},
   "outputs": [
    {
     "data": {
      "text/plain": [
       "get_VT_GWTC2 (generic function with 1 method)"
      ]
     },
     "execution_count": 5,
     "metadata": {},
     "output_type": "execute_result"
    }
   ],
   "source": [
    "function get_post_func(event)\n",
    "    post_file = \"LIGO-data/masses_source_frame_posterior/GW$(event)_posterior.txt\"\n",
    "    post = readdlm(post_file);\n",
    "    d1 = fit(MvNormal, transpose(post))\n",
    "    \n",
    "    μ1, μ2 = d1.μ\n",
    "    σ1 = sqrt(d1.Σ[1])\n",
    "    σ2 = sqrt(d1.Σ[4])\n",
    "    ρ = d1.Σ[2]/σ1/σ2\n",
    "    norm = 2pi * sqrt(1 - ρ^2) * σ1 * σ2\n",
    "    \n",
    "    post(x1, x2) = 1/norm * exp(- 1/2/(1-ρ^2) * ((x1-μ1)^2/σ1^2 - 2ρ*(x1-μ1)*(x2-μ2)/σ1/σ2 + (x2-μ2)^2/σ2^2))\n",
    "end\n",
    "\n",
    "#### \n",
    "# vt\n",
    "const time_O1 = 46.1; # (* days or 48.6 days *)\n",
    "const time_O2 = 117; #(* days *)\n",
    "const time_O3a = 149.9 #;(* days *)\n",
    "\n",
    "function get_VT_GWTC2()\n",
    "    m1s = m2s = collect(1.0:1.0:136.0)\n",
    "    vts_O1O2 = (time_O1 + time_O2)/365 * reshape(readdlm(\"backup/VT_1yr_m1m2_LIGO_O1.txt\")[:, 3], length(m1s), length(m1s))\n",
    "    vts_O3a = (time_O3a)/365 * reshape(readdlm(\"backup/VT_1yr_m1m2_LIGO_O3.txt\")[:, 3], length(m1s), length(m1s))\n",
    "    vts = vts_O1O2 + vts_O3a\n",
    "    \n",
    "    vt_int0 = LinearInterpolation((m1s, m2s), vts)\n",
    "    \n",
    "    VT(m1, m2) = vt_int0(m1, m2)\n",
    "end"
   ]
  },
  {
   "cell_type": "code",
   "execution_count": 6,
   "metadata": {},
   "outputs": [
    {
     "data": {
      "text/plain": [
       "VT (generic function with 1 method)"
      ]
     },
     "execution_count": 6,
     "metadata": {},
     "output_type": "execute_result"
    }
   ],
   "source": [
    "posts = [get_post_func(event) for event in GWTC2_events_low_spin_heavy_mass];\n",
    "# save(\"backup/posts_$(model).jld2\", Dict(\"posts\" => posts))\n",
    "# posts = load(\"backup/posts_$(model).jld2\", \"posts\");\n",
    "\n",
    "VT = get_VT_GWTC2()"
   ]
  },
  {
   "cell_type": "code",
   "execution_count": 7,
   "metadata": {},
   "outputs": [
    {
     "data": {
      "text/plain": [
       "β_func (generic function with 1 method)"
      ]
     },
     "execution_count": 7,
     "metadata": {},
     "output_type": "execute_result"
    }
   ],
   "source": [
    "# function β_func(mc, σc, f)\n",
    "#     int0(m1, m2) = mergerRateDensity(m1, m2, mc, σc, f) * VT(m1, m2)\n",
    "#     int(m1, m2) = δm^2 * int0(m_min + δm * m1, m_min + δm * m2)\n",
    "#     function integrand(x, f)\n",
    "#         f[1] = int(x[1], x[2])\n",
    "#     end\n",
    "#     result, err = cuhre(integrand, rtol=1e-1)\n",
    "#     0.5 * result[1]\n",
    "# end\n",
    "\n",
    "function β_func_1st(mc, σc, f)\n",
    "    int0(m1, m2) = mergerRateDensity1st(m1, m2, mc, σc, f) * VT(m1, m2)\n",
    "    int(m1, m2) = δm^2 * int0(m_min + δm * m1, m_min + δm * m2)\n",
    "    function integrand(x, f)\n",
    "        f[1] = int(x[1], x[2])\n",
    "    end\n",
    "    result, err = cuhre(integrand, rtol=1e-1)\n",
    "    0.5 * result[1]\n",
    "end\n",
    "\n",
    "function β_func_2nd(mc, σc, f)\n",
    "    \n",
    "    int00(i, j, e) = 1009.5488113544313 * f^(69/37) * i^(6/37) * (i+j)^(72/37) / j^(68/37) / σc^3 * exp(-(-3318*σc^4 + 1369*log(j/mc)^2)/(2738*σc^2)) * exp(-(1369*log(e/mc)^2 + 1369*log((-e+i)/mc)^2)/(2738*σc^2)) / (e^2 * (-e + i)^2) * VT(i, j)\n",
    "#     int0(i, j, e) = 0.5 * (int00(i, j, e) + int00(j, i, e))\n",
    "    int(i, j, e) = δm^2 * (m_min + δm * i) * int00(m_min + δm * i, m_min + δm * j, (m_min + δm * i)*e)\n",
    "    function integrand(x, f)\n",
    "        f[1] = int(x[1], x[2], x[3])\n",
    "    end\n",
    "    result, err = cuhre(integrand, 3, 1, rtol=1e-1)\n",
    "    0.5 * result[1]\n",
    "end\n",
    "\n",
    "β_func(mc, σc, f) = β_func_1st(mc, σc, f) + β_func_2nd(mc, σc, f)"
   ]
  },
  {
   "cell_type": "code",
   "execution_count": 8,
   "metadata": {},
   "outputs": [
    {
     "name": "stdout",
     "output_type": "stream",
     "text": [
      "  451.106 μs (11738 allocations: 319.41 KiB)\n"
     ]
    },
    {
     "data": {
      "text/plain": [
       "14.289933820547343"
      ]
     },
     "execution_count": 8,
     "metadata": {},
     "output_type": "execute_result"
    }
   ],
   "source": [
    "@btime β_func(mc, σc, f)"
   ]
  },
  {
   "cell_type": "markdown",
   "metadata": {},
   "source": [
    "## test"
   ]
  },
  {
   "cell_type": "code",
   "execution_count": 9,
   "metadata": {},
   "outputs": [],
   "source": [
    "# 190924_021846, 190930_133541"
   ]
  },
  {
   "cell_type": "code",
   "execution_count": 10,
   "metadata": {},
   "outputs": [],
   "source": [
    "# using Plots, PairPlots\n",
    "# gr()\n",
    "# a = randn(1000)\n",
    "# c = randn(1000)\n",
    "# data = (post[:, 1], post[:, 2])\n",
    "\n",
    "# PairPlots.corner(data)"
   ]
  },
  {
   "cell_type": "code",
   "execution_count": 11,
   "metadata": {},
   "outputs": [
    {
     "name": "stdout",
     "output_type": "stream",
     "text": [
      "190924_021846\n"
     ]
    },
    {
     "data": {
      "image/png": "[encoded data removed]"
     },
     "execution_count": 11,
     "metadata": {},
     "output_type": "execute_result"
    }
   ],
   "source": [
    "event = \"190924_021846\"\n",
    "    \n",
    "println(event)\n",
    "post_file = \"LIGO-data/masses_source_frame_posterior/GW$(event)_posterior.txt\"\n",
    "post = readdlm(post_file);\n",
    "pyplot()\n",
    "scatter(post[:, 1], post[:, 2], markersize=0.5)\n",
    "hline!([3], leg=false)\n",
    "hline!([1], leg=false)\n",
    "xlabel!(L\"m_1/M_\\odot\")\n",
    "ylabel!(L\"m_2/M_\\odot\")\n",
    "title!(\"GW$event\")"
   ]
  },
  {
   "cell_type": "markdown",
   "metadata": {},
   "source": [
    "## LIGO data"
   ]
  },
  {
   "cell_type": "code",
   "execution_count": 12,
   "metadata": {},
   "outputs": [],
   "source": [
    "# function log_pR_func(mc, σc, f, post)\n",
    "#     int0(m1, m2) = mergerRateDensity(m1, m2, mc, σc, f) * post(m1, m2)\n",
    "#     int(m1, m2) = δm^2 * int0(m_min + δm * m1, m_min + δm * m2)\n",
    "#     function integrand(x, f)\n",
    "#         f[1] = int(x[1], x[2])\n",
    "#     end\n",
    "#     result, err = cuhre(integrand, rtol=1e-1)\n",
    "#     log(0.5 * abs(result[1]))\n",
    "# end"
   ]
  },
  {
   "cell_type": "code",
   "execution_count": 13,
   "metadata": {},
   "outputs": [
    {
     "data": {
      "text/plain": [
       "log_pR_func (generic function with 1 method)"
      ]
     },
     "execution_count": 13,
     "metadata": {},
     "output_type": "execute_result"
    }
   ],
   "source": [
    "function log_pR_func_1st(mc, σc, f, post)\n",
    "    int0(m1, m2) = mergerRateDensity1st(m1, m2, mc, σc, f) * post(m1, m2)\n",
    "    int(m1, m2) = δm^2 * int0(m_min + δm * m1, m_min + δm * m2)\n",
    "    function integrand(x, f)\n",
    "        f[1] = int(x[1], x[2])\n",
    "    end\n",
    "    result, err = cuhre(integrand, rtol=1e-1)\n",
    "    log(0.5 * abs(result[1]))\n",
    "end\n",
    "\n",
    "function log_pR_func_2nd(mc, σc, f, post)\n",
    "    \n",
    "    int00(i, j, e) = 1009.5488113544313 * f^(69/37) * i^(6/37) * (i+j)^(72/37) / j^(68/37) / σc^3 * exp(-(-3318*σc^4 + 1369*log(j/mc)^2)/(2738*σc^2)) * exp(-(1369*log(e/mc)^2 + 1369*log((-e+i)/mc)^2)/(2738*σc^2)) / (e^2 * (-e + i)^2) * post(i, j)\n",
    "#     int0(i, j, e) = 0.5 * (int00(i, j, e) + int00(j, i, e))\n",
    "    int(i, j, e) = δm^2 * (m_min + δm * i) * int00(m_min + δm * i, m_min + δm * j, (m_min + δm * i)*e)\n",
    "    function integrand(x, f)\n",
    "        f[1] = int(x[1], x[2], x[3])\n",
    "    end\n",
    "    result, err = cuhre(integrand, 3, 1, rtol=1e-1)\n",
    "    result[1]\n",
    "end\n",
    "\n",
    "log_pR_func(mc, σc, f, post) = log_pR_func_1st(mc, σc, f, post) + log_pR_func_2nd(mc, σc, f, post)"
   ]
  },
  {
   "cell_type": "code",
   "execution_count": 14,
   "metadata": {},
   "outputs": [
    {
     "name": "stdout",
     "output_type": "stream",
     "text": [
      "  0.060269 seconds (180.56 k allocations: 10.871 MiB, 99.15% compilation time)\n"
     ]
    },
    {
     "data": {
      "text/plain": [
       "-8.218407946793164"
      ]
     },
     "execution_count": 14,
     "metadata": {},
     "output_type": "execute_result"
    }
   ],
   "source": [
    "@time log_pR_func_1st(mc, σc, f, posts[8])"
   ]
  },
  {
   "cell_type": "code",
   "execution_count": 15,
   "metadata": {},
   "outputs": [
    {
     "name": "stdout",
     "output_type": "stream",
     "text": [
      "  0.057096 seconds (206.31 k allocations: 12.251 MiB, 97.74% compilation time)\n"
     ]
    },
    {
     "data": {
      "text/plain": [
       "6.973043678504772e-5"
      ]
     },
     "execution_count": 15,
     "metadata": {},
     "output_type": "execute_result"
    }
   ],
   "source": [
    "@time log_pR_func_2nd(mc, σc, f, posts[8])"
   ]
  },
  {
   "cell_type": "code",
   "execution_count": 16,
   "metadata": {},
   "outputs": [
    {
     "name": "stdout",
     "output_type": "stream",
     "text": [
      "  0.017968 seconds (80.09 k allocations: 4.571 MiB, 90.55% compilation time)\n"
     ]
    },
    {
     "data": {
      "text/plain": [
       "-8.21833821635638"
      ]
     },
     "execution_count": 16,
     "metadata": {},
     "output_type": "execute_result"
    }
   ],
   "source": [
    "@time log_pR_func(mc, σc, f, posts[8])"
   ]
  },
  {
   "cell_type": "code",
   "execution_count": 17,
   "metadata": {},
   "outputs": [
    {
     "data": {
      "text/plain": [
       "logL (generic function with 1 method)"
      ]
     },
     "execution_count": 17,
     "metadata": {},
     "output_type": "execute_result"
    }
   ],
   "source": [
    "function logL(mc, σc, log_fpbh, posts)\n",
    "    - β_func(mc, σc, 10.0^log_fpbh) + sum(log_pR_func.(mc, σc, 10.0^log_fpbh, posts))\n",
    "end"
   ]
  },
  {
   "cell_type": "code",
   "execution_count": 18,
   "metadata": {},
   "outputs": [
    {
     "name": "stdout",
     "output_type": "stream",
     "text": [
      "  100.649 ms (1325379 allocations: 60.46 MiB)\n"
     ]
    },
    {
     "data": {
      "text/plain": [
       "-431.625635616547"
      ]
     },
     "execution_count": 18,
     "metadata": {},
     "output_type": "execute_result"
    }
   ],
   "source": [
    "@btime logL(mc, σc, -3, posts)"
   ]
  },
  {
   "cell_type": "code",
   "execution_count": 20,
   "metadata": {},
   "outputs": [
    {
     "data": {
      "text/plain": [
       "-844.4042118410274"
      ]
     },
     "execution_count": 20,
     "metadata": {},
     "output_type": "execute_result"
    }
   ],
   "source": [
    "logL(17.068251251921872, 0.11702570160808631, -2.871914894259725, posts)"
   ]
  },
  {
   "cell_type": "markdown",
   "metadata": {},
   "source": [
    "## mcmc"
   ]
  },
  {
   "cell_type": "code",
   "execution_count": 18,
   "metadata": {},
   "outputs": [
    {
     "data": {
      "text/plain": [
       "LogDVal{Float64}(-430.43927699224326)"
      ]
     },
     "execution_count": 18,
     "metadata": {},
     "output_type": "execute_result"
    }
   ],
   "source": [
    "true_par_values = (mc=mc, σc=σc, log_fpbh=-3)\n",
    "likelihood(true_par_values)"
   ]
  },
  {
   "cell_type": "code",
   "execution_count": null,
   "metadata": {},
   "outputs": [
    {
     "name": "stdout",
     "output_type": "stream",
     "text": [
      "Start sampling.\n"
     ]
    },
    {
     "name": "stderr",
     "output_type": "stream",
     "text": [
      "┌ Info: Initializing new RNG of type Random123.Philox4x{UInt64, 10}\n",
      "└ @ BAT /home/czc/.julia/packages/BAT/XvOy6/src/algotypes/bat_default.jl:44\n",
      "┌ Info: Using transform algorithm PriorSubstitution()\n",
      "└ @ BAT /home/czc/.julia/packages/BAT/XvOy6/src/algotypes/bat_default.jl:44\n",
      "┌ Info: Trying to generate 4 viable MCMC chain(s).\n",
      "└ @ BAT /home/czc/.julia/packages/BAT/XvOy6/src/samplers/mcmc/chain_pool_init.jl:56\n",
      "┌ Info: Selected 4 MCMC chain(s).\n",
      "└ @ BAT /home/czc/.julia/packages/BAT/XvOy6/src/samplers/mcmc/chain_pool_init.jl:173\n",
      "┌ Info: Begin tuning of 4 MCMC chain(s).\n",
      "└ @ BAT /home/czc/.julia/packages/BAT/XvOy6/src/samplers/mcmc/multi_cycle_burnin.jl:35\n",
      "┌ Info: MCMC Tuning cycle 1 finished, 4 chains, 0 tuned, 0 converged.\n",
      "└ @ BAT /home/czc/.julia/packages/BAT/XvOy6/src/samplers/mcmc/multi_cycle_burnin.jl:65\n",
      "┌ Info: MCMC Tuning cycle 2 finished, 4 chains, 2 tuned, 4 converged.\n",
      "└ @ BAT /home/czc/.julia/packages/BAT/XvOy6/src/samplers/mcmc/multi_cycle_burnin.jl:65\n",
      "┌ Info: MCMC Tuning cycle 3 finished, 4 chains, 3 tuned, 4 converged.\n",
      "└ @ BAT /home/czc/.julia/packages/BAT/XvOy6/src/samplers/mcmc/multi_cycle_burnin.jl:65\n",
      "┌ Info: MCMC Tuning cycle 4 finished, 4 chains, 3 tuned, 4 converged.\n",
      "└ @ BAT /home/czc/.julia/packages/BAT/XvOy6/src/samplers/mcmc/multi_cycle_burnin.jl:65\n",
      "┌ Info: MCMC Tuning cycle 5 finished, 4 chains, 3 tuned, 4 converged.\n",
      "└ @ BAT /home/czc/.julia/packages/BAT/XvOy6/src/samplers/mcmc/multi_cycle_burnin.jl:65\n",
      "┌ Info: MCMC Tuning cycle 6 finished, 4 chains, 3 tuned, 4 converged.\n",
      "└ @ BAT /home/czc/.julia/packages/BAT/XvOy6/src/samplers/mcmc/multi_cycle_burnin.jl:65\n"
     ]
    }
   ],
   "source": [
    "@time begin\n",
    "println(\"Start sampling.\")\n",
    "\n",
    "burnin = MCMCMultiCycleBurnin(max_ncycles=1000)\n",
    "samples, chains = bat_sample(posterior, MCMCSampling(mcalg=MetropolisHastings(), nsteps=10^5, nchains=4, burnin = burnin));\n",
    "    \n",
    "println(\" \")\n",
    "println(\"Finish sampling.\")\n",
    "end\n",
    "\n",
    "save(\"backup/samples_$model.jld2\", Dict(\"samples\" => samples, \"chains\" => chains))"
   ]
  },
  {
   "cell_type": "code",
   "execution_count": null,
   "metadata": {},
   "outputs": [],
   "source": [
    "samples = load(\"backup/samples_$model.jld2\")[\"samples\"];"
   ]
  },
  {
   "cell_type": "code",
   "execution_count": null,
   "metadata": {},
   "outputs": [],
   "source": [
    "plot(samples)"
   ]
  },
  {
   "cell_type": "code",
   "execution_count": null,
   "metadata": {},
   "outputs": [],
   "source": [
    "plot(\n",
    "    samples, :σc,\n",
    "    mean = true, std = true, globalmode = true, marginalmode = true,\n",
    "    nbins = 50, title = \"Marginalized Distribution for y\"\n",
    ")"
   ]
  },
  {
   "cell_type": "code",
   "execution_count": null,
   "metadata": {},
   "outputs": [],
   "source": [
    "sd = SampledDensity(posterior, samples)\n",
    "display(sd)"
   ]
  },
  {
   "cell_type": "code",
   "execution_count": null,
   "metadata": {},
   "outputs": [],
   "source": [
    "get_post(para, samples) = [a[para] for a in samples.v]"
   ]
  },
  {
   "cell_type": "code",
   "execution_count": null,
   "metadata": {},
   "outputs": [],
   "source": [
    "log_p1_posts = get_post(:log_p1, samples)\n",
    "log_p2_posts = get_post(:log_p2, samples)\n",
    "log_p3_posts = get_post(:log_p3, samples)\n",
    "log_p4_posts = get_post(:log_p4, samples)\n",
    "log_fpbh_posts = get_post(:log_fpbh, samples)\n",
    "\n",
    "p1_posts = 10 .^ log_p1_posts\n",
    "p2_posts = 10 .^ log_p2_posts\n",
    "p3_posts = 10 .^ log_p3_posts\n",
    "p4_posts = 10 .^ log_p4_posts\n",
    "fpbh_posts = 10 .^ log_fpbh_posts\n",
    "\n",
    "p5_posts = get_p5.(p1_posts, p2_posts, p3_posts, p4_posts);\n",
    "log_p5_posts = log10.(p5_posts);"
   ]
  },
  {
   "cell_type": "code",
   "execution_count": null,
   "metadata": {},
   "outputs": [],
   "source": [
    "p1_fpbh_posts = p1_posts .* fpbh_posts\n",
    "p2_fpbh_posts = p2_posts .* fpbh_posts\n",
    "p3_fpbh_posts = p3_posts .* fpbh_posts\n",
    "p4_fpbh_posts = p4_posts .* fpbh_posts\n",
    "p5_fpbh_posts = p5_posts .* fpbh_posts;\n",
    "\n",
    "log_p1_fpbh_posts = log10.(p1_fpbh_posts)\n",
    "log_p2_fpbh_posts = log10.(p2_fpbh_posts)\n",
    "log_p3_fpbh_posts = log10.(p3_fpbh_posts)\n",
    "log_p4_fpbh_posts = log10.(p4_fpbh_posts)\n",
    "log_p5_fpbh_posts = log10.(p5_fpbh_posts);"
   ]
  },
  {
   "cell_type": "code",
   "execution_count": null,
   "metadata": {},
   "outputs": [],
   "source": [
    "# R_posts = zeros(length(p1_posts))\n",
    "# Threads.@threads for i in 1:length(R_posts)\n",
    "#     R_posts[i] = merger_rate(p1_posts[i], p2_posts[i], p3_posts[i], p4_posts[i], fpbh_posts[i])\n",
    "# end\n",
    "\n",
    "# save(\"backup/R_posts_$model.jld2\", Dict(\"samples\" => R_posts))\n",
    "R_posts = load(\"backup/R_posts_$model.jld2\")[\"samples\"];"
   ]
  },
  {
   "cell_type": "code",
   "execution_count": null,
   "metadata": {},
   "outputs": [],
   "source": [
    "histogram(log_p2_posts)"
   ]
  },
  {
   "cell_type": "code",
   "execution_count": null,
   "metadata": {},
   "outputs": [],
   "source": [
    "histogram(p1_fpbh_posts)"
   ]
  },
  {
   "cell_type": "code",
   "execution_count": null,
   "metadata": {},
   "outputs": [],
   "source": [
    "get_quantile(posts) = quantile(posts, [0.05, 0.5, 0.95])"
   ]
  },
  {
   "cell_type": "code",
   "execution_count": null,
   "metadata": {},
   "outputs": [],
   "source": [
    "function get_σ(posts)\n",
    "    x_low, x_mid, x_up = get_quantile(posts)\n",
    "    x_mid, max(x_up - x_mid, x_mid - x_low)\n",
    "end\n",
    "[1, get_σ(p1_fpbh_posts)...]"
   ]
  },
  {
   "cell_type": "code",
   "execution_count": null,
   "metadata": {},
   "outputs": [],
   "source": [
    "function get_interval(posts)\n",
    "    x_low, x_mid, x_up = get_quantile(posts)\n",
    "    x_mid, x_up - x_mid, x_mid - x_low\n",
    "end"
   ]
  },
  {
   "cell_type": "code",
   "execution_count": null,
   "metadata": {},
   "outputs": [],
   "source": [
    "get_interval(p1_posts)"
   ]
  },
  {
   "cell_type": "code",
   "execution_count": null,
   "metadata": {},
   "outputs": [],
   "source": [
    "get_interval(p2_posts)"
   ]
  },
  {
   "cell_type": "code",
   "execution_count": null,
   "metadata": {},
   "outputs": [],
   "source": [
    "get_interval(p3_posts)"
   ]
  },
  {
   "cell_type": "code",
   "execution_count": null,
   "metadata": {},
   "outputs": [],
   "source": [
    "get_interval(p4_posts)"
   ]
  },
  {
   "cell_type": "code",
   "execution_count": null,
   "metadata": {},
   "outputs": [],
   "source": [
    "get_interval(fpbh_posts)"
   ]
  },
  {
   "cell_type": "code",
   "execution_count": null,
   "metadata": {},
   "outputs": [],
   "source": [
    "get_interval(R_posts)"
   ]
  },
  {
   "cell_type": "code",
   "execution_count": null,
   "metadata": {},
   "outputs": [],
   "source": [
    "get_quantile(R_posts)"
   ]
  },
  {
   "cell_type": "code",
   "execution_count": null,
   "metadata": {},
   "outputs": [],
   "source": [
    "function get_fpbh_from_R(p1, p2, p3, p4, q)\n",
    "    func = fpbh -> merger_rate(p1, p2, p3, p4, fpbh) - quantile(R_posts, q)\n",
    "    find_zero(func, (1e-4, 1e-2))\n",
    "end\n",
    "\n",
    "get_fpbh_from_R(p1, p2, p3, p4, 0.05)"
   ]
  },
  {
   "cell_type": "code",
   "execution_count": null,
   "metadata": {},
   "outputs": [],
   "source": [
    "p1_qs = get_quantile(p1_posts)\n",
    "p2_qs = get_quantile(p2_posts)\n",
    "p3_qs = get_quantile(p3_posts)\n",
    "p4_qs = get_quantile(p4_posts)\n",
    "p5_qs = get_quantile(p5_posts)\n",
    "fpbh_qs = get_quantile(fpbh_posts)\n",
    "\n",
    "p1_fpbh_qs = get_quantile(p1_fpbh_posts)\n",
    "p2_fpbh_qs = get_quantile(p2_fpbh_posts)\n",
    "p3_fpbh_qs = get_quantile(p3_fpbh_posts)\n",
    "p4_fpbh_qs = get_quantile(p4_fpbh_posts)\n",
    "p5_fpbh_qs = get_quantile(p5_fpbh_posts)"
   ]
  },
  {
   "cell_type": "code",
   "execution_count": null,
   "metadata": {},
   "outputs": [],
   "source": [
    "ps_data = [\n",
    "    [(1+3)/2, get_σ(p1_fpbh_posts)...],\n",
    "    [(3+10)/2, get_σ(p2_fpbh_posts)...],\n",
    "    [(10+40)/2, get_σ(p3_fpbh_posts)...],\n",
    "    [(40+80)/2, get_σ(p4_fpbh_posts)...],\n",
    "    [(80+130)/2, get_σ(p5_fpbh_posts)...]\n",
    "]\n",
    "\n",
    "save(\"backup/$(model)_ps.jld2\", Dict(\"ps\" => ps_data))"
   ]
  },
  {
   "cell_type": "code",
   "execution_count": null,
   "metadata": {},
   "outputs": [],
   "source": [
    "function plot_band(low, mid, upper, left, right)\n",
    "    ms = left:0.1:right\n",
    "    pm_low = [low for m in ms]\n",
    "    pm_mid = [mid for m in ms]\n",
    "    pm_upper = [upper for m in ms]\n",
    "    \n",
    "    plot!(ms, pm_mid, label=\"\", color=\"blue\")\n",
    "    plot!(ms, pm_low, fillrange=pm_upper, fillalpha=0.35, color=\"cyan\", label=\"\")\n",
    "end\n"
   ]
  },
  {
   "cell_type": "code",
   "execution_count": null,
   "metadata": {},
   "outputs": [],
   "source": [
    "# function Pm_log(σ, Mc, m)\n",
    "#     1/m/σ/sqrt(2pi) * exp(- log(m/Mc)^2/2/σ^2)\n",
    "# end\n",
    "\n",
    "# best_lognormal(m) = Pm_log(0.58, 18.18, m)\n",
    "\n",
    "# using Plots\n",
    "\n",
    "# ms = 1:0.1:130\n",
    "# ps = best_lognormal.(ms)\n",
    "\n",
    "# plot(ms, ps, xaxis=:log, yaxis=:log, color=\"red\", label=\"Log-normal\", legend=:bottomleft)\n",
    "# plot_band(p1_qs..., 1, 5)\n",
    "# plot_band(p2_qs..., 5, 10)\n",
    "# plot_band(p3_qs..., 10, 40)\n",
    "# plot_band(p4_qs..., 40, 80)\n",
    "# plot_band(p5_qs..., 80, 130)\n",
    "# xlabel!(L\"m/M_{\\odot}\")\n",
    "# ylabel!(L\"P(m)\")"
   ]
  },
  {
   "cell_type": "code",
   "execution_count": null,
   "metadata": {},
   "outputs": [],
   "source": [
    "# function lognormal(σ, Mc, m)\n",
    "#     1/m/σ/sqrt(2pi) * exp(- log(m/Mc)^2/2/σ^2)\n",
    "# end\n",
    "\n",
    "# best_lognormal(m) = lognormal(0.58, 18.18, m)\n",
    "\n",
    "# using Plots\n",
    "\n",
    "# ms = [(1+5)/2, (5+10)/2, (10+40)/2, (40+80)/2, (80+130)/2]\n",
    "# ps = PmQCD.(ms, 10^(-2.26092), -0.0639596)\n",
    "\n",
    "# plot(ms, ps, xaxis=:log, yaxis=:log, color=\"black\", legend=:bottomleft)\n",
    "# plot_band(p1_fpbh_qs..., 1, 5)\n",
    "# plot_band(p2_fpbh_qs..., 5, 10)\n",
    "# plot_band(p3_fpbh_qs..., 10, 40)\n",
    "# plot_band(p4_fpbh_qs..., 40, 80)\n",
    "# plot_band(p5_fpbh_qs..., 80, 130)\n",
    "# xlabel!(L\"m/M_{\\odot}\")\n",
    "# ylabel!(L\"f_\\mathrm{pbh} P(m)\")"
   ]
  },
  {
   "cell_type": "code",
   "execution_count": null,
   "metadata": {},
   "outputs": [],
   "source": [
    "# # using StatsPlots # no need for `using Plots` as that is reexported here\n",
    "# # pyplot()\n",
    "# ms = [(1+5)/2 (5+10)/2 (10+40)/2 (40+80)/2 (80+130)/2]\n",
    "# ps = [p1_posts, p2_posts, p3_posts, p4_posts, p5_posts]\n",
    "\n",
    "# violin(ms[1], ps[1], leg=false, linewidth=0, xlim=[1, 130], xaxis=:log, yaxis=:log, color=\"red\")\n",
    "# # for i in 2:5\n",
    "# #     violin!(ms[i], ps[i], leg=false, linewidth=0, xlim=[1, 130], xaxis=:log, yaxis=:log, color=\"red\", widths=1e2)\n",
    "# # end\n",
    "# xlabel!(L\"m/M_{\\odot}\")\n",
    "# ylabel!(L\"P(m)\")"
   ]
  },
  {
   "cell_type": "code",
   "execution_count": null,
   "metadata": {},
   "outputs": [],
   "source": [
    "# using StatsPlots # no need for `using Plots` as that is reexported here\n",
    "# pyplot()"
   ]
  },
  {
   "cell_type": "code",
   "execution_count": null,
   "metadata": {},
   "outputs": [],
   "source": [
    "function get_err(end_points)\n",
    "    left_points = end_points[1:end-1]\n",
    "    right_points = end_points[2:end]\n",
    "    mean_points = (left_points .+ right_points) ./ 2\n",
    "    left_err = mean_points - left_points\n",
    "    right_err = right_points - mean_points\n",
    "    mean_points, left_err, right_err\n",
    "end"
   ]
  },
  {
   "cell_type": "markdown",
   "metadata": {},
   "source": [
    "## merger rate"
   ]
  },
  {
   "cell_type": "code",
   "execution_count": null,
   "metadata": {},
   "outputs": [],
   "source": [
    "post_190521 = get_post_func(\"190521\")\n",
    "post_200115 = get_post_func(\"200115_042309\")\n",
    "post_200105 = get_post_func(\"200105_162426\")\n",
    "\n",
    "post_190814 = get_post_func(\"190814\")\n",
    "post_190425 = get_post_func(\"190425\")\n",
    "post_190426 = get_post_func(\"190426_152155\")"
   ]
  },
  {
   "cell_type": "code",
   "execution_count": null,
   "metadata": {},
   "outputs": [],
   "source": [
    "ms = 22:0.1:27\n",
    "ms2 = 2.2:0.0005:2.6\n",
    "# ps = post_190814.(ms2, 1.58)\n",
    "ps = post_190814.(ms, 2.5)\n",
    "# ps2 = post_200115.(5.7, ms)\n",
    "# ps3 = post_200105.(5.7, ms)\n",
    "plot(ms, ps)\n",
    "# plot!(ms, ps3)"
   ]
  },
  {
   "cell_type": "code",
   "execution_count": null,
   "metadata": {},
   "outputs": [],
   "source": [
    "thr = 7.708648380664132e-5;\n",
    "function get_area(thr, post_data)\n",
    "    post, m1_min, m1_max, m2_min, m2_max = post_data\n",
    "    δm1 = m1_max - m1_min\n",
    "    δm2 = m2_max - m2_min\n",
    "    \n",
    "    function post_new(m1, m2)\n",
    "        p = post(m1, m2)\n",
    "        p >= thr ? p : 0\n",
    "    end\n",
    "    int(m1, m2) = δm1 * δm2 * post_new(m1_min + δm1*m1, m2_min + δm2*m2)\n",
    "    function integrand(x, f)\n",
    "        f[1] = int(x[1], x[2])\n",
    "    end\n",
    "    result, err = cuhre(integrand, rtol=1e-3, minevals=1e4)\n",
    "    result[1]\n",
    "end\n",
    "\n",
    "function get_thr(post_data)\n",
    "    fzero(thr -> get_area(thr, post_data) - 0.9, 1e-5, 1e2)\n",
    "end\n",
    "    \n",
    "function get_cond_merger_rate(p1, p2, p3, p4, fpbh, post_data, thr)\n",
    "    post, m1_min, m1_max, m2_min, m2_max = post_data\n",
    "    δm1 = m1_max - m1_min\n",
    "    δm2 = m2_max - m2_min\n",
    "#     println(δm1)\n",
    "#     println(δm2)\n",
    "    \n",
    "    R12_new(m1, m2) = post(m1, m2) >= thr ? R12(m1, m2, p1, p2, p3, p4, fpbh) : 0\n",
    "    int(m1, m2) = δm1 * δm2 * R12_new(m1_min + δm1*m1, m2_min + δm2*m2)\n",
    "#     println(\"p1=$p10, p2=$p20, p3=$p30\")\n",
    "    function integrand(x, f)\n",
    "        f[1] = int(x[1], x[2])\n",
    "    end\n",
    "    result, err = cuhre(integrand, rtol=1e-1)\n",
    "    result[1]\n",
    "end\n",
    "\n",
    "# function get_cond_merger_rate2(p1, p2, p3, p4, fpbh, post_data, thr)\n",
    "#     post, m1_min, m1_max, m2_min, m2_max = post_data\n",
    "#     δm1 = m1_max - m1_min\n",
    "#     δm2 = m2_max - m2_min\n",
    "# #     println(δm1)\n",
    "# #     println(δm2)\n",
    "    \n",
    "#     R12_new(m1, m2) = R12(m1, m2, p1, p2, p3, p4, fpbh)\n",
    "#     int(m1, m2) = δm1 * δm2 * R12_new(m1_min + δm1*m1, m2_min + δm2*m2)\n",
    "# #     println(\"p1=$p10, p2=$p20, p3=$p30\")\n",
    "#     function integrand(x, f)\n",
    "#         f[1] = int(x[1], x[2])\n",
    "#     end\n",
    "#     result, err = cuhre(integrand, rtol=1e-1)\n",
    "#     result[1]\n",
    "# end"
   ]
  },
  {
   "cell_type": "code",
   "execution_count": null,
   "metadata": {},
   "outputs": [],
   "source": [
    "# post_data = [post_200105, 6, 12, 1.5, 2.5];\n",
    "post_data = [post_190814, 20, 30, 1, 3];\n",
    "thr = get_thr(post_data)\n",
    "println(thr)\n",
    "println(get_area(thr, post_data))\n",
    "\n",
    "i = 10\n",
    "@time get_cond_merger_rate(p1_posts[i], p2_posts[i], p3_posts[i], p4_posts[i], fpbh_posts[i], post_data, thr)"
   ]
  },
  {
   "cell_type": "code",
   "execution_count": null,
   "metadata": {},
   "outputs": [],
   "source": [
    "get_cond_merger_rate(p1_qs[2], p2_qs[2], p3_qs[2], p4_qs[2], fpbh_qs[2], post_data, thr)"
   ]
  },
  {
   "cell_type": "code",
   "execution_count": null,
   "metadata": {},
   "outputs": [],
   "source": [
    "function get_R_post(post_data)\n",
    "    len = length(p1_posts)\n",
    "    result = zeros(len)\n",
    "    thr = get_thr(post_data)\n",
    "    println(thr)\n",
    "    Threads.@threads for i in 1:len\n",
    "#     for i in 1:len\n",
    "        result[i] = get_cond_merger_rate(p1_posts[i], p2_posts[i], p3_posts[i], p4_posts[i], fpbh_posts[i], post_data, thr)\n",
    "#         println(result[i])\n",
    "    end\n",
    "    result\n",
    "end"
   ]
  },
  {
   "cell_type": "code",
   "execution_count": null,
   "metadata": {},
   "outputs": [],
   "source": [
    "@time R_post_190521 = get_R_post([post_190521, 10, 130, 10, 130]);\n",
    "save(\"backup/$(model)_R_post_190521.jld2\", Dict(\"posts\" => R_post_190521))\n",
    "\n",
    "R_post = load(\"backup/$(model)_R_post_190521.jld2\")[\"posts\"];\n",
    "get_interval(R_post)"
   ]
  }
 ],
 "metadata": {
  "kernelspec": {
   "display_name": "Julia 1.6.3",
   "language": "julia",
   "name": "julia-1.6"
  },
  "language_info": {
   "file_extension": ".jl",
   "mimetype": "application/julia",
   "name": "julia",
   "version": "1.6.3"
  }
 },
 "nbformat": 4,
 "nbformat_minor": 4
}
